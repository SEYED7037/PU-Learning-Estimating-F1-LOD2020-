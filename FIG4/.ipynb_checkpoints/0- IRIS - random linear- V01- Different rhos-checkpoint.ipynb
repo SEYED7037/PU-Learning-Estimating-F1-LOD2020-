{
 "cells": [
  {
   "cell_type": "code",
   "execution_count": 24,
   "metadata": {
    "collapsed": true
   },
   "outputs": [],
   "source": [
    "import numpy as np\n",
    "import pandas as pd \n",
    "from sklearn.preprocessing import MinMaxScaler\n",
    "import matplotlib.pyplot as plt\n",
    "from scipy.stats import ks_2samp,wilcoxon\n",
    "import pickle\n"
   ]
  },
  {
   "cell_type": "code",
   "execution_count": 13,
   "metadata": {
    "collapsed": true
   },
   "outputs": [],
   "source": [
    "address_main = '/Users/vu/surfdrive/PostDoc/VUMC projrct/Related Matterials/Positive and unlabeled dataset/Code/real Datasets/'\n",
    "address_date = address_main + 'iris.csv'\n",
    "\n",
    "address_saving = address_main +'iris pickle.pickle'"
   ]
  },
  {
   "cell_type": "code",
   "execution_count": 14,
   "metadata": {
    "collapsed": true
   },
   "outputs": [],
   "source": [
    "df_data = pd.read_csv(address_date,header= None)\n",
    "df_data.columns = ['x0','x1','x2','x3','text_label']\n",
    "df_data['real_label']=-1\n",
    "df_data.loc[df_data['text_label']=='Iris-setosa','real_label'] = +1\n",
    "\n"
   ]
  },
  {
   "cell_type": "code",
   "execution_count": 15,
   "metadata": {
    "collapsed": true
   },
   "outputs": [],
   "source": [
    "size_data = len(df_data)\n",
    "minmax = MinMaxScaler()\n",
    "df_data[['x0','x1','x2','x3']] = minmax.fit_transform(df_data[['x0','x1','x2','x3']])"
   ]
  },
  {
   "cell_type": "code",
   "execution_count": 16,
   "metadata": {
    "collapsed": true
   },
   "outputs": [],
   "source": [
    "max_counter_ws = 50\n",
    "max_counter_cs = 50"
   ]
  },
  {
   "cell_type": "markdown",
   "metadata": {},
   "source": [
    "# TEST cells"
   ]
  },
  {
   "cell_type": "code",
   "execution_count": null,
   "metadata": {
    "collapsed": true
   },
   "outputs": [],
   "source": []
  },
  {
   "cell_type": "code",
   "execution_count": null,
   "metadata": {
    "collapsed": true
   },
   "outputs": [],
   "source": []
  },
  {
   "cell_type": "code",
   "execution_count": null,
   "metadata": {
    "collapsed": true
   },
   "outputs": [],
   "source": []
  },
  {
   "cell_type": "code",
   "execution_count": null,
   "metadata": {
    "collapsed": true
   },
   "outputs": [],
   "source": []
  },
  {
   "cell_type": "markdown",
   "metadata": {},
   "source": [
    "# MAIN CELL"
   ]
  },
  {
   "cell_type": "code",
   "execution_count": 17,
   "metadata": {
    "collapsed": true
   },
   "outputs": [],
   "source": [
    "dic_inversions_F1_= {}\n",
    "dic_inversions_LL = {}"
   ]
  },
  {
   "cell_type": "code",
   "execution_count": 19,
   "metadata": {},
   "outputs": [
    {
     "name": "stdout",
     "output_type": "stream",
     "text": [
      "10 0\n"
     ]
    },
    {
     "name": "stderr",
     "output_type": "stream",
     "text": [
      "/Users/vu/anaconda3/lib/python3.6/site-packages/ipykernel_launcher.py:11: RuntimeWarning: invalid value encountered in double_scalars\n",
      "  # This is added back by InteractiveShellApp.init_path()\n",
      "/Users/vu/anaconda3/lib/python3.6/site-packages/ipykernel_launcher.py:21: RuntimeWarning: invalid value encountered in double_scalars\n"
     ]
    },
    {
     "name": "stdout",
     "output_type": "stream",
     "text": [
      "10 1\n",
      "10 2\n",
      "10 3\n",
      "10 4\n",
      "10 5\n",
      "10 6\n",
      "10 7\n",
      "10 8\n",
      "10 9\n",
      "10 10\n",
      "10 11\n",
      "10 12\n",
      "10 13\n",
      "10 14\n",
      "10 15\n",
      "10 16\n",
      "10 17\n",
      "10 18\n",
      "10 19\n",
      "10 20\n",
      "10 21\n",
      "10 22\n",
      "10 23\n",
      "10 24\n",
      "10 25\n",
      "10 26\n",
      "10 27\n",
      "10 28\n",
      "10 29\n",
      "10 30\n",
      "10 31\n",
      "10 32\n",
      "10 33\n",
      "10 34\n",
      "10 35\n",
      "10 36\n",
      "10 37\n",
      "10 38\n",
      "10 39\n",
      "10 40\n",
      "10 41\n",
      "10 42\n",
      "10 43\n",
      "10 44\n",
      "10 45\n",
      "10 46\n",
      "10 47\n",
      "10 48\n",
      "10 49\n",
      "30 0\n",
      "30 1\n",
      "30 2\n",
      "30 3\n",
      "30 4\n",
      "30 5\n",
      "30 6\n",
      "30 7\n",
      "30 8\n",
      "30 9\n",
      "30 10\n",
      "30 11\n",
      "30 12\n",
      "30 13\n",
      "30 14\n",
      "30 15\n",
      "30 16\n",
      "30 17\n",
      "30 18\n",
      "30 19\n",
      "30 20\n",
      "30 21\n",
      "30 22\n",
      "30 23\n",
      "30 24\n",
      "30 25\n",
      "30 26\n",
      "30 27\n",
      "30 28\n",
      "30 29\n",
      "30 30\n",
      "30 31\n",
      "30 32\n",
      "30 33\n",
      "30 34\n",
      "30 35\n",
      "30 36\n",
      "30 37\n",
      "30 38\n",
      "30 39\n",
      "30 40\n",
      "30 41\n",
      "30 42\n",
      "30 43\n",
      "30 44\n",
      "30 45\n",
      "30 46\n",
      "30 47\n",
      "30 48\n",
      "30 49\n"
     ]
    }
   ],
   "source": [
    "#for N_visible in range(1,51):\n",
    "for N_visible in [10,30]:\n",
    "    rho_real = N_visible / np.sum(df_data['real_label'] == +1)\n",
    "    dic_inversions_F1_[rho_real]=[]\n",
    "    dic_inversions_LL[rho_real]=[]\n",
    "\n",
    "    for counter_rho in range(0,max_counter_cs):\n",
    "        print(N_visible,counter_rho )\n",
    "        df_data['visible_label'] = -1\n",
    "        temp_visibles = np.random.choice(np.where(df_data['real_label']==+1)[0], size=N_visible, replace=False)\n",
    "        df_data.loc[temp_visibles,'visible_label'] = +1\n",
    "\n",
    "\n",
    "\n",
    "        counter_ws = 0\n",
    "        df_W = pd.DataFrame(columns=['w0','w1','w2','w3','b','F1','F1_','LL'])\n",
    "        while counter_ws < max_counter_ws:\n",
    "            w = np.random.rand(1,5) *6-3\n",
    "            df_data['predictione'] = predicted_labels(df_data,w)\n",
    "\n",
    "            if (np.sum(df_data['predictione'] == +1) != 0) & (np.sum(df_data['predictione'] == -1) != 0)  :\n",
    "                df_W.loc[counter_ws,['w0','w1','w2','w3','b']] = w\n",
    "                df_W.loc[counter_ws,['F1','F1_','LL']] = scores(df=df_data, rho=rho_real,writing=False)\n",
    "                counter_ws += 1\n",
    "\n",
    "        dic_inversions_F1_[rho_real].append(count_inversions(df_W['F1'],df_W['F1_']))\n",
    "        dic_inversions_LL[rho_real].append(count_inversions(df_W['F1'],df_W['LL']))"
   ]
  },
  {
   "cell_type": "code",
   "execution_count": null,
   "metadata": {
    "collapsed": true
   },
   "outputs": [],
   "source": []
  },
  {
   "cell_type": "code",
   "execution_count": 25,
   "metadata": {},
   "outputs": [],
   "source": [
    "inversions_avg_F1_= []\n",
    "inversions_avg_LL= []\n",
    "p_values = []\n",
    "\n",
    "for rho in dic_inversions_F1_.keys():\n",
    "    inversions_avg_F1_.append(np.mean(dic_inversions_F1_[rho]))\n",
    "    inversions_avg_LL.append(np.mean(dic_inversions_LL[rho]))\n",
    "    p_values.append(wilcoxon(dic_inversions_F1_[rho], dic_inversions_LL[rho]).pvalue)"
   ]
  },
  {
   "cell_type": "code",
   "execution_count": 26,
   "metadata": {},
   "outputs": [
    {
     "data": {
      "image/png": "[encoded data removed]",
      "text/plain": [
       "<Figure size 432x288 with 1 Axes>"
      ]
     },
     "metadata": {},
     "output_type": "display_data"
    }
   ],
   "source": [
    "plt.scatter(dic_inversions_F1_.keys(), inversions_avg_F1_)\n",
    "plt.scatter(dic_inversions_F1_.keys(), inversions_avg_LL)\n",
    "plt.scatter(dic_inversions_F1_.keys(), p_values)\n",
    "plt.legend(['F1_', 'LL','P_values'])\n",
    "plt.show()"
   ]
  },
  {
   "cell_type": "code",
   "execution_count": 27,
   "metadata": {},
   "outputs": [
    {
     "data": {
      "image/png": "[encoded data removed]",
      "text/plain": [
       "<Figure size 432x288 with 1 Axes>"
      ]
     },
     "metadata": {},
     "output_type": "display_data"
    }
   ],
   "source": [
    "plt.plot(inversions_avg_F1_)\n",
    "plt.plot(inversions_avg_LL)\n",
    "plt.plot(p_values)\n",
    "plt.legend(['F1_', 'LL','P_values'])\n",
    "\n",
    "plt.show()"
   ]
  },
  {
   "cell_type": "code",
   "execution_count": null,
   "metadata": {
    "collapsed": true
   },
   "outputs": [],
   "source": []
  },
  {
   "cell_type": "code",
   "execution_count": null,
   "metadata": {
    "collapsed": true
   },
   "outputs": [],
   "source": []
  },
  {
   "cell_type": "markdown",
   "metadata": {},
   "source": [
    "## Save Results"
   ]
  },
  {
   "cell_type": "code",
   "execution_count": 200,
   "metadata": {
    "collapsed": true
   },
   "outputs": [],
   "source": [
    "with open(address_saving, 'wb') as handle:\n",
    "    pickle.dump([dic_inversions_F1_,dic_inversions_LL], handle)"
   ]
  },
  {
   "cell_type": "code",
   "execution_count": null,
   "metadata": {
    "collapsed": true
   },
   "outputs": [],
   "source": []
  },
  {
   "cell_type": "code",
   "execution_count": null,
   "metadata": {
    "collapsed": true
   },
   "outputs": [],
   "source": []
  },
  {
   "cell_type": "code",
   "execution_count": null,
   "metadata": {
    "collapsed": true
   },
   "outputs": [],
   "source": []
  },
  {
   "cell_type": "code",
   "execution_count": null,
   "metadata": {
    "collapsed": true
   },
   "outputs": [],
   "source": []
  },
  {
   "cell_type": "markdown",
   "metadata": {},
   "source": [
    "# FUNCTIONS"
   ]
  },
  {
   "cell_type": "code",
   "execution_count": 8,
   "metadata": {
    "collapsed": true
   },
   "outputs": [],
   "source": [
    "# Linear Function\n",
    "\n",
    "def g(W,X):\n",
    "    \n",
    "    return np.dot(X,w[0,0:-1]) + w[0,-1]"
   ]
  },
  {
   "cell_type": "code",
   "execution_count": 9,
   "metadata": {
    "collapsed": true
   },
   "outputs": [],
   "source": [
    "def predicted_labels (df,W):\n",
    "    N_features = W.shape[1] -1\n",
    "    for i in range (0 , len(df)):\n",
    "        Xi = df.iloc[i,0:N_features]\n",
    "        g_xi = g(W, Xi)\n",
    "        if g_xi > 0 :\n",
    "            df.loc[i,'prediction'] = +1\n",
    "        else:\n",
    "            df.loc[i,'prediction'] = -1\n",
    "    return(df['prediction'])"
   ]
  },
  {
   "cell_type": "code",
   "execution_count": 10,
   "metadata": {
    "collapsed": true
   },
   "outputs": [],
   "source": [
    "# calculate scores \n",
    "def scores(df,rho, writing = False):\n",
    "    TP = np.sum((df['prediction'] == +1) &  (df ['real_label'] == +1))\n",
    "    FP = np.sum((df['prediction'] == +1) &  (df ['real_label'] == -1))\n",
    "    FN = np.sum((df['prediction'] == -1) &  (df ['real_label'] == +1))\n",
    "    if writing :\n",
    "        print( 'TP, FP, FN = ', TP, FP, FN)\n",
    "\n",
    "    pr = TP/(TP+FP)\n",
    "    re = TP/(TP+FN)\n",
    "    F_score = 2*pr*re/(pr+re)\n",
    "\n",
    "    TP_ = np.sum((df['prediction'] == +1) &  (df ['visible_label'] == +1))\n",
    "    FP_ = np.sum((df['prediction'] == +1) &  (df ['visible_label'] == -1))\n",
    "    FN_ = np.sum((df['prediction'] == -1) &  (df ['visible_label'] == +1))\n",
    "    if writing :\n",
    "        print( 'TP_, FP_, FN_ = ', TP_, FP_, FN_)\n",
    "    pr_ = TP_/(TP_ + FP_)\n",
    "    pr_ /= rho\n",
    "    re_ = TP_/(TP_ + FN_)\n",
    "    F_score_ = 2*pr_*re_/(pr_+re_)\n",
    "\n",
    "    L_L_score = re_ **2 / np.sum((df['prediction'] == +1))\n",
    "    if writing:\n",
    "        print('np.sum((df[prediction] == +1)) = ', np.sum((df['prediction'] == +1)))\n",
    "    \n",
    "    if np.isnan(F_score):\n",
    "        F_score=0\n",
    "    if np.isnan(F_score_):\n",
    "        F_score_=0\n",
    "    if np.isnan(L_L_score):\n",
    "        L_L_score=0\n",
    "    return (F_score , F_score_, L_L_score)"
   ]
  },
  {
   "cell_type": "code",
   "execution_count": 11,
   "metadata": {
    "collapsed": true
   },
   "outputs": [],
   "source": [
    "\n",
    "def count_inversions(real_F1s, estimated_scores):\n",
    "    errors_h = 0\n",
    "\n",
    "    for i in range(0,len(real_F1s)):\n",
    "        F1_i = real_F1s[i]\n",
    "        F1_h_i = estimated_scores[i]\n",
    "        for j in range(i+1,len(real_F1s)):\n",
    "            F1_j = real_F1s[j]\n",
    "            F1_h_j = estimated_scores[j]\n",
    "\n",
    "\n",
    "            if F1_i > F1_j :\n",
    "                if F1_h_i < F1_h_j:\n",
    "                    errors_h += 1\n",
    "\n",
    "            elif F1_i < F1_j :\n",
    "                if F1_h_i > F1_h_j:\n",
    "                    errors_h +=1\n",
    "                    \n",
    "    errors_h = errors_h / (len(real_F1s)*(len(real_F1s)-1)/2)\n",
    "\n",
    "    return(errors_h)"
   ]
  },
  {
   "cell_type": "code",
   "execution_count": null,
   "metadata": {
    "collapsed": true
   },
   "outputs": [],
   "source": []
  },
  {
   "cell_type": "code",
   "execution_count": null,
   "metadata": {
    "collapsed": true
   },
   "outputs": [],
   "source": []
  }
 ],
 "metadata": {
  "kernelspec": {
   "display_name": "Python 3",
   "language": "python",
   "name": "python3"
  },
  "language_info": {
   "codemirror_mode": {
    "name": "ipython",
    "version": 3
   },
   "file_extension": ".py",
   "mimetype": "text/x-python",
   "name": "python",
   "nbconvert_exporter": "python",
   "pygments_lexer": "ipython3",
   "version": "3.6.8"
  }
 },
 "nbformat": 4,
 "nbformat_minor": 2
}
