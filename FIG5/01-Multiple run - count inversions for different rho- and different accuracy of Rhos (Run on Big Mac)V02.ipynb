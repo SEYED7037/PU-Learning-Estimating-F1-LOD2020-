{
 "cells": [
  {
   "cell_type": "code",
   "execution_count": 5,
   "metadata": {
    "collapsed": true
   },
   "outputs": [],
   "source": [
    "import numpy as np\n",
    "import pandas as pd\n",
    "from sklearn.preprocessing import MinMaxScaler\n",
    "import matplotlib.pyplot as plt\n",
    "from scipy.stats import ks_2samp,wilcoxon\n",
    "import math\n",
    "import random\n",
    "import pickle\n",
    "import time\n"
   ]
  },
  {
   "cell_type": "code",
   "execution_count": 6,
   "metadata": {
    "collapsed": true
   },
   "outputs": [],
   "source": [
    "address_main = '/Users/vu/surfdrive/PostDoc/VUMC projrct/Related Matterials/Positive and unlabeled dataset/Code/estimated rho/'\n",
    "address_data = address_main + 'iris.csv'\n",
    "\n"
   ]
  },
  {
   "cell_type": "markdown",
   "metadata": {},
   "source": [
    "# Read Dataset:"
   ]
  },
  {
   "cell_type": "code",
   "execution_count": 7,
   "metadata": {
    "collapsed": true
   },
   "outputs": [],
   "source": [
    "df_data = pd.read_csv(address_data,header= None)\n",
    "df_data.columns = ['x0','x1','x2','x3','text_label']\n",
    "df_data['real_label']=-1\n"
   ]
  },
  {
   "cell_type": "code",
   "execution_count": 8,
   "metadata": {
    "collapsed": true
   },
   "outputs": [],
   "source": [
    "#df_data.loc[df_data['text_label']=='Iris-setosa','real_label'] = +1      # 1\n",
    "#df_data.loc[df_data['text_label']=='Iris-versicolor','real_label'] = +1  # 2\n",
    "df_data.loc[df_data['text_label']=='Iris-virginica','real_label'] = +1    # 3"
   ]
  },
  {
   "cell_type": "code",
   "execution_count": 9,
   "metadata": {
    "collapsed": true
   },
   "outputs": [],
   "source": [
    "size_data = len(df_data)\n",
    "minmax = MinMaxScaler()\n",
    "df_data[['x0','x1','x2','x3']] = minmax.fit_transform(df_data[['x0','x1','x2','x3']])"
   ]
  },
  {
   "cell_type": "code",
   "execution_count": 10,
   "metadata": {
    "collapsed": true
   },
   "outputs": [],
   "source": [
    "# Create Classifiers:\n"
   ]
  },
  {
   "cell_type": "code",
   "execution_count": 24,
   "metadata": {
    "collapsed": true
   },
   "outputs": [],
   "source": [
    "max_counter_ws = 25\n",
    "max_counter_cs = 10"
   ]
  },
  {
   "cell_type": "code",
   "execution_count": 25,
   "metadata": {},
   "outputs": [],
   "source": [
    "# Make Tickle for Ws\n",
    "counter_ws = 0 \n",
    "Ws = []\n",
    "while counter_ws < max_counter_ws:\n",
    "    w = np.random.rand(1,5) *6-3\n",
    "    df_data['predictione'] = predicted_labels(df_data,w)\n",
    "    if (np.sum(df_data['predictione'] == +1) != 0) & (np.sum(df_data['predictione'] == -1) != 0)  :\n",
    "        Ws.append(w)\n",
    "        counter_ws += 1\n",
    "with open(address_main + 'Ws'+'.pickle', 'wb') as handle:\n",
    "    pickle.dump(Ws, handle)"
   ]
  },
  {
   "cell_type": "code",
   "execution_count": 29,
   "metadata": {
    "collapsed": true
   },
   "outputs": [],
   "source": [
    "#Read Tickle of Ws\n",
    "with open(address_main + 'Ws'+'.pickle' , 'rb') as handle:\n",
    "    Ws = pickle.load(handle)"
   ]
  },
  {
   "cell_type": "code",
   "execution_count": 30,
   "metadata": {
    "collapsed": true
   },
   "outputs": [],
   "source": [
    "dic_inversions_F1_= {}\n",
    "dic_inversions_LL = {}"
   ]
  },
  {
   "cell_type": "code",
   "execution_count": 31,
   "metadata": {},
   "outputs": [
    {
     "data": {
      "text/plain": [
       "10"
      ]
     },
     "execution_count": 31,
     "metadata": {},
     "output_type": "execute_result"
    }
   ],
   "source": [
    "errors_in_roh = [0.50, 0.75, 0.9, 0.95, 1 , 1.05, 1.1, 1.25 , 1.5, 2]\n",
    "len(errors_in_roh)"
   ]
  },
  {
   "cell_type": "code",
   "execution_count": 35,
   "metadata": {},
   "outputs": [
    {
     "name": "stdout",
     "output_type": "stream",
     "text": [
      "10 0"
     ]
    },
    {
     "name": "stderr",
     "output_type": "stream",
     "text": [
      "/Users/vu/anaconda3/lib/python3.6/site-packages/ipykernel_launcher.py:11: RuntimeWarning: invalid value encountered in double_scalars\n",
      "  # This is added back by InteractiveShellApp.init_path()\n",
      "/Users/vu/anaconda3/lib/python3.6/site-packages/ipykernel_launcher.py:21: RuntimeWarning: invalid value encountered in double_scalars\n"
     ]
    },
    {
     "name": "stdout",
     "output_type": "stream",
     "text": [
      "\n",
      "10 1\n",
      "10 2\n",
      "10 3\n",
      "10 4\n",
      "10 5\n",
      "10 6\n",
      "10 7\n",
      "10 8\n",
      "10 9\n"
     ]
    }
   ],
   "source": [
    "c = errors_in_roh[0]\n",
    "for N_visible in range(1,51):\n",
    "    rho_real = N_visible / np.sum(df_data['real_label'] == +1)\n",
    "    rho_estimated = c * rho_real    \n",
    "    dic_inversions_F1_[rho_real]=[]\n",
    "    dic_inversions_LL[rho_real]=[]\n",
    "\n",
    "    for counter_rho in range(0,max_counter_cs):\n",
    "        print(N_visible,counter_rho )\n",
    "        df_data['visible_label'] = -1\n",
    "        temp_visibles = np.random.choice(np.where(df_data['real_label']==+1)[0], size=N_visible, replace=False)\n",
    "        df_data.loc[temp_visibles,'visible_label'] = +1\n",
    "\n",
    "\n",
    "\n",
    "        counter_ws = 0\n",
    "        df_W = pd.DataFrame(columns=['w0','w1','w2','w3','b','F1','F1_','LL'])\n",
    "        while counter_ws < max_counter_ws:\n",
    "            w = Ws[counter_ws]\n",
    "            df_W.loc[counter_ws,['w0','w1','w2','w3','b']] = w\n",
    "            df_data['predictione'] = predicted_labels(df_data,w)\n",
    "            df_W.loc[counter_ws,['F1','F1_','LL']] = scores(df=df_data, rho=rho_estimated,writing=False)\n",
    "            counter_ws += 1\n",
    "        dic_inversions_F1_[rho_real].append(count_inversions(df_W['F1'],df_W['F1_']))\n",
    "        dic_inversions_LL[rho_real].append(count_inversions(df_W['F1'],df_W['LL']))\n"
   ]
  },
  {
   "cell_type": "code",
   "execution_count": 58,
   "metadata": {
    "collapsed": true
   },
   "outputs": [],
   "source": [
    "with open(address_main + 'Iric, c=' + ' ' + str(c)+'.pickle', 'wb') as handle:\n",
    "    pickle.dump([dic_inversions_F1_,dic_inversions_LL], handle)"
   ]
  },
  {
   "cell_type": "code",
   "execution_count": 8,
   "metadata": {
    "collapsed": true
   },
   "outputs": [],
   "source": []
  },
  {
   "cell_type": "markdown",
   "metadata": {
    "collapsed": true
   },
   "source": [
    "# FUNCTIONS"
   ]
  },
  {
   "cell_type": "markdown",
   "metadata": {},
   "source": [
    "#### Calculate Scores"
   ]
  },
  {
   "cell_type": "code",
   "execution_count": 1,
   "metadata": {
    "collapsed": true
   },
   "outputs": [],
   "source": [
    "# Linear Function\n",
    "\n",
    "def g(W,X):\n",
    "    \n",
    "    return np.dot(X,w[0,0:-1]) + w[0,-1]"
   ]
  },
  {
   "cell_type": "code",
   "execution_count": 2,
   "metadata": {
    "collapsed": true
   },
   "outputs": [],
   "source": [
    "def predicted_labels (df,W):\n",
    "    N_features = W.shape[1] -1\n",
    "    for i in range (0 , len(df)):\n",
    "        Xi = df.iloc[i,0:N_features]\n",
    "        g_xi = g(W, Xi)\n",
    "        if g_xi > 0 :\n",
    "            df.loc[i,'prediction'] = +1\n",
    "        else:\n",
    "            df.loc[i,'prediction'] = -1\n",
    "    return(df['prediction'])"
   ]
  },
  {
   "cell_type": "code",
   "execution_count": 3,
   "metadata": {
    "collapsed": true
   },
   "outputs": [],
   "source": [
    "# calculate scores \n",
    "def scores(df,rho, writing = False):\n",
    "    TP = np.sum((df['prediction'] == +1) &  (df ['real_label'] == +1))\n",
    "    FP = np.sum((df['prediction'] == +1) &  (df ['real_label'] == -1))\n",
    "    FN = np.sum((df['prediction'] == -1) &  (df ['real_label'] == +1))\n",
    "    if writing :\n",
    "        print( 'TP, FP, FN = ', TP, FP, FN)\n",
    "\n",
    "    pr = TP/(TP+FP)\n",
    "    re = TP/(TP+FN)\n",
    "    F_score = 2*pr*re/(pr+re)\n",
    "\n",
    "    TP_ = np.sum((df['prediction'] == +1) &  (df ['visible_label'] == +1))\n",
    "    FP_ = np.sum((df['prediction'] == +1) &  (df ['visible_label'] == -1))\n",
    "    FN_ = np.sum((df['prediction'] == -1) &  (df ['visible_label'] == +1))\n",
    "    if writing :\n",
    "        print( 'TP_, FP_, FN_ = ', TP_, FP_, FN_)\n",
    "    pr_ = TP_/(TP_ + FP_)\n",
    "    pr_ /= rho\n",
    "    re_ = TP_/(TP_ + FN_)\n",
    "    F_score_ = 2*pr_*re_/(pr_+re_)\n",
    "\n",
    "    L_L_score = re_ **2 / np.sum((df['prediction'] == +1))\n",
    "    if writing:\n",
    "        print('np.sum((df[prediction] == +1)) = ', np.sum((df['prediction'] == +1)))\n",
    "    \n",
    "    if np.isnan(F_score):\n",
    "        F_score=0\n",
    "    if np.isnan(F_score_):\n",
    "        F_score_=0\n",
    "    if np.isnan(L_L_score):\n",
    "        L_L_score=0\n",
    "    return (F_score , F_score_, L_L_score)"
   ]
  },
  {
   "cell_type": "code",
   "execution_count": 4,
   "metadata": {
    "collapsed": true
   },
   "outputs": [],
   "source": [
    "\n",
    "def count_inversions(real_F1s, estimated_scores):\n",
    "    errors_h = 0\n",
    "\n",
    "    for i in range(0,len(real_F1s)):\n",
    "        F1_i = real_F1s[i]\n",
    "        F1_h_i = estimated_scores[i]\n",
    "        for j in range(i+1,len(real_F1s)):\n",
    "            F1_j = real_F1s[j]\n",
    "            F1_h_j = estimated_scores[j]\n",
    "\n",
    "\n",
    "            if F1_i > F1_j :\n",
    "                if F1_h_i < F1_h_j:\n",
    "                    errors_h += 1\n",
    "\n",
    "            elif F1_i < F1_j :\n",
    "                if F1_h_i > F1_h_j:\n",
    "                    errors_h +=1\n",
    "                    \n",
    "    errors_h = errors_h / (len(real_F1s)*(len(real_F1s)-1)/2)\n",
    "\n",
    "    return(errors_h)"
   ]
  },
  {
   "cell_type": "code",
   "execution_count": null,
   "metadata": {},
   "outputs": [],
   "source": []
  },
  {
   "cell_type": "code",
   "execution_count": null,
   "metadata": {
    "collapsed": true
   },
   "outputs": [],
   "source": []
  }
 ],
 "metadata": {
  "kernelspec": {
   "display_name": "Python 3",
   "language": "python",
   "name": "python3"
  },
  "language_info": {
   "codemirror_mode": {
    "name": "ipython",
    "version": 3
   },
   "file_extension": ".py",
   "mimetype": "text/x-python",
   "name": "python",
   "nbconvert_exporter": "python",
   "pygments_lexer": "ipython3",
   "version": "3.6.8"
  }
 },
 "nbformat": 4,
 "nbformat_minor": 2
}
