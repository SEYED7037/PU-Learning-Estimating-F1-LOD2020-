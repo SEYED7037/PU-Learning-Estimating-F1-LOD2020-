{
 "cells": [
  {
   "cell_type": "code",
   "execution_count": 15,
   "metadata": {
    "collapsed": true
   },
   "outputs": [],
   "source": [
    "import numpy as np\n",
    "import pandas as pd \n",
    "from sklearn.preprocessing import MinMaxScaler\n",
    "import matplotlib.pyplot as plt\n",
    "from scipy.stats import ks_2samp,wilcoxon\n",
    "import pickle\n"
   ]
  },
  {
   "cell_type": "code",
   "execution_count": 16,
   "metadata": {
    "collapsed": true
   },
   "outputs": [],
   "source": [
    "address_main = ''\n",
    "address_date = address_main + 'iris.csv'\n",
    "\n",
    "address_Fig_saving = address_main +'AVG, STD, Irid.png'"
   ]
  },
  {
   "cell_type": "code",
   "execution_count": 17,
   "metadata": {
    "collapsed": true
   },
   "outputs": [],
   "source": [
    "df_data = pd.read_csv(address_date,header= None)\n",
    "df_data.columns = ['x0','x1','x2','x3','text_label']\n",
    "df_data['real_label']=-1\n",
    "df_data.loc[df_data['text_label']=='Iris-setosa','real_label'] = +1\n",
    "\n"
   ]
  },
  {
   "cell_type": "code",
   "execution_count": 18,
   "metadata": {
    "collapsed": true
   },
   "outputs": [],
   "source": [
    "size_data = len(df_data)\n",
    "minmax = MinMaxScaler()\n",
    "df_data[['x0','x1','x2','x3']] = minmax.fit_transform(df_data[['x0','x1','x2','x3']])"
   ]
  },
  {
   "cell_type": "code",
   "execution_count": 19,
   "metadata": {
    "collapsed": true
   },
   "outputs": [],
   "source": [
    "max_counter_ws = 1\n",
    "max_counter_cs = 100"
   ]
  },
  {
   "cell_type": "markdown",
   "metadata": {},
   "source": [
    "# Set the classifier"
   ]
  },
  {
   "cell_type": "code",
   "execution_count": 20,
   "metadata": {
    "collapsed": true
   },
   "outputs": [],
   "source": [
    "#w = np.random.rand(1,5) *6-3\n",
    "w = np.array([[-2.72978472, -2.84862472, -0.75181242, -1.03079578,  1.83660826]])\n"
   ]
  },
  {
   "cell_type": "code",
   "execution_count": null,
   "metadata": {
    "collapsed": true
   },
   "outputs": [],
   "source": []
  },
  {
   "cell_type": "code",
   "execution_count": 21,
   "metadata": {
    "collapsed": true
   },
   "outputs": [],
   "source": [
    "df_data['prediction'] = predicted_labels(df_data,w)\n",
    "d = np.sum(df_data['prediction']==+1)"
   ]
  },
  {
   "cell_type": "code",
   "execution_count": 22,
   "metadata": {},
   "outputs": [
    {
     "name": "stdout",
     "output_type": "stream",
     "text": [
      "TP, FP, FN =  15 3 35\n"
     ]
    },
    {
     "data": {
      "text/plain": [
       "0.4411764705882353"
      ]
     },
     "execution_count": 22,
     "metadata": {},
     "output_type": "execute_result"
    }
   ],
   "source": [
    "F1_scores(df_data,writing=True)"
   ]
  },
  {
   "cell_type": "code",
   "execution_count": 23,
   "metadata": {
    "collapsed": true
   },
   "outputs": [],
   "source": [
    "N_visibles = range(1,51)#[10,20,30,40,50] # "
   ]
  },
  {
   "cell_type": "markdown",
   "metadata": {},
   "source": [
    "# MAIN CELL"
   ]
  },
  {
   "cell_type": "code",
   "execution_count": 69,
   "metadata": {},
   "outputs": [
    {
     "name": "stderr",
     "output_type": "stream",
     "text": [
      "/Users/vu/anaconda3/lib/python3.6/site-packages/ipykernel_launcher.py:12: RuntimeWarning: invalid value encountered in double_scalars\n",
      "  if sys.path[0] == '':\n"
     ]
    }
   ],
   "source": [
    "dic_F1_={}\n",
    "dic_var = {}\n",
    "for N_visible in N_visibles:\n",
    "    rho_real = N_visible / np.sum(df_data['real_label'] == +1)\n",
    "    dic_F1_[rho_real]=[]\n",
    "    \n",
    "    for counter_rho in range(0,max_counter_cs):\n",
    "        ## Set visibile data points\n",
    "        \n",
    "        df_data['visible_label'] = -1\n",
    "        temp_visibles = np.random.choice(np.where(df_data['real_label']==+1)[0], size=N_visible, replace=False)\n",
    "        df_data.loc[temp_visibles,'visible_label'] = +1\n",
    "        # calculate estimated F1    \n",
    "        dic_F1_[rho_real].append(F1_estimate(df_data,rho_real))\n",
    "    ## calculated Variance\n",
    "    c = N_visible\n",
    "    b = np.sum((df_data['prediction']==+1) & (df_data['real_label']==+1))\n",
    "    a = np.sum(df_data['real_label']==+1)\n",
    "    #x = np.sum((df_data['prediction']==+1) & (df_data['visible_label']==+1))\n",
    "    var = b*c*(a-c)*(a-b)/(a**2 * (a-1))\n",
    "    VAR = (2/ (rho_real*d + c ))**2 * var\n",
    "    dic_var[rho_real] = VAR"
   ]
  },
  {
   "cell_type": "code",
   "execution_count": 70,
   "metadata": {},
   "outputs": [
    {
     "data": {
      "text/plain": [
       "0.4411764705882353"
      ]
     },
     "execution_count": 70,
     "metadata": {},
     "output_type": "execute_result"
    }
   ],
   "source": []
  },
  {
   "cell_type": "code",
   "execution_count": null,
   "metadata": {
    "collapsed": true
   },
   "outputs": [],
   "source": []
  },
  {
   "cell_type": "code",
   "execution_count": null,
   "metadata": {
    "collapsed": true
   },
   "outputs": [],
   "source": []
  },
  {
   "cell_type": "code",
   "execution_count": null,
   "metadata": {
    "collapsed": true
   },
   "outputs": [],
   "source": []
  },
  {
   "cell_type": "code",
   "execution_count": 106,
   "metadata": {},
   "outputs": [
    {
     "data": {
      "text/plain": [
       "<Figure size 720x360 with 0 Axes>"
      ]
     },
     "execution_count": 106,
     "metadata": {},
     "output_type": "execute_result"
    }
   ],
   "source": [
    "plt.figure(figsize=(10,5))"
   ]
  },
  {
   "cell_type": "code",
   "execution_count": 107,
   "metadata": {},
   "outputs": [
    {
     "data": {
      "text/plain": [
       "<matplotlib.collections.PathCollection at 0x1a1dab8b00>"
      ]
     },
     "execution_count": 107,
     "metadata": {},
     "output_type": "execute_result"
    }
   ],
   "source": [
    "for N_visible in N_visibles:\n",
    "    rho_real = N_visible / np.sum(df_data['real_label'] == +1)\n",
    "    plt.scatter(np.ones(max_counter_cs)*rho_real, dic_F1_[rho_real],alpha=0.15,c='k',s=8,marker='o')\n",
    "    \n",
    "        # real Mean\n",
    "    plt.scatter(x = rho_real, y = np.mean(dic_F1_[rho_real]), c='b',marker='_',label= None)\n",
    "        # real standard deviations\n",
    "    plt.scatter(x = rho_real, y = np.mean(dic_F1_[rho_real])+ np.std(dic_F1_[rho_real]) , c='r',marker='_', label =None)\n",
    "    plt.scatter(x = rho_real, y = np.mean(dic_F1_[rho_real])- np.std(dic_F1_[rho_real]) , c='r',marker='_',label=None)\n",
    "\n",
    "        # Just for lgends\n",
    "plt.scatter(np.ones(max_counter_cs)*rho_real, dic_F1_[rho_real],alpha=0.15,c='k',s=5,marker='o', label = r'$\\overline{F1}$')\n",
    "plt.scatter(x = rho_real, y = np.mean(dic_F1_[rho_real]), c='b',marker='_',label=r'mean($\\overline{F1}$)' )\n",
    "        # real standard deviations\n",
    "plt.scatter(x = rho_real, y = np.mean(dic_F1_[rho_real])+ np.std(dic_F1_[rho_real]) , c='r',marker='_',label=r'$\\overline{F1}$ +- std($\\overline{F1}$)' )\n",
    "\n",
    "\n"
   ]
  },
  {
   "cell_type": "code",
   "execution_count": 108,
   "metadata": {},
   "outputs": [
    {
     "data": {
      "text/plain": [
       "[<matplotlib.lines.Line2D at 0x1a1d88f048>]"
      ]
     },
     "execution_count": 108,
     "metadata": {},
     "output_type": "execute_result"
    }
   ],
   "source": [
    "    \n",
    "# calculated mean\n",
    "plt.plot(dic_var.keys(), list(F1* np.ones(len(dic_var))) , c= 'b', linestyle=':',label= 'E(F1)')\n",
    "# calculated standard deviations\n",
    "plt.plot(dic_var.keys(), F1 + np.sqrt(list(dic_var.values())), c = 'r' , linestyle=':', label = 'E(F1) +- std(F1)' )\n",
    "plt.plot(dic_var.keys(), F1 - np.sqrt(list(dic_var.values())), c = 'r', linestyle=':',label=None )"
   ]
  },
  {
   "cell_type": "code",
   "execution_count": 109,
   "metadata": {},
   "outputs": [
    {
     "data": {
      "image/png": "[encoded data removed]",
      "text/plain": [
       "<Figure size 720x360 with 1 Axes>"
      ]
     },
     "metadata": {},
     "output_type": "display_data"
    }
   ],
   "source": [
    "plt.xlabel(r\"$\\rho$\")\n",
    "plt.ylabel(r\"$\\overline{F1}$\")\n",
    "plt.grid(axis='both')\n",
    "plt.legend()\n",
    "plt.ylim([-0.3,1.6])\n",
    "\n",
    "plt.savefig(address_main +'AVG, STD, Irid 05.png')\n",
    "\n",
    "plt.show()"
   ]
  },
  {
   "cell_type": "code",
   "execution_count": null,
   "metadata": {
    "collapsed": true
   },
   "outputs": [],
   "source": [
    "#Fig3.b"
   ]
  },
  {
   "cell_type": "code",
   "execution_count": null,
   "metadata": {
    "collapsed": true
   },
   "outputs": [],
   "source": []
  },
  {
   "cell_type": "markdown",
   "metadata": {},
   "source": [
    "# FUNCTIONS"
   ]
  },
  {
   "cell_type": "code",
   "execution_count": 1,
   "metadata": {
    "collapsed": true
   },
   "outputs": [],
   "source": [
    "# Linear Function\n",
    "\n",
    "def g(W,X):\n",
    "    \n",
    "    return np.dot(X,w[0,0:-1]) + w[0,-1]"
   ]
  },
  {
   "cell_type": "code",
   "execution_count": 2,
   "metadata": {
    "collapsed": true
   },
   "outputs": [],
   "source": [
    "def predicted_labels (df,W):\n",
    "    N_features = W.shape[1] -1\n",
    "    for i in range (0 , len(df)):\n",
    "        Xi = df.iloc[i,0:N_features]\n",
    "        g_xi = g(W, Xi)\n",
    "        if g_xi > 0 :\n",
    "            df.loc[i,'prediction'] = +1\n",
    "        else:\n",
    "            df.loc[i,'prediction'] = -1\n",
    "    return(df['prediction'])"
   ]
  },
  {
   "cell_type": "code",
   "execution_count": 3,
   "metadata": {
    "collapsed": true
   },
   "outputs": [],
   "source": [
    "# calculate scores \n",
    "def F1_scores(df, writing = False):\n",
    "    TP = np.sum((df['prediction'] == +1) &  (df ['real_label'] == +1))\n",
    "    FP = np.sum((df['prediction'] == +1) &  (df ['real_label'] == -1))\n",
    "    FN = np.sum((df['prediction'] == -1) &  (df ['real_label'] == +1))\n",
    "    if writing :\n",
    "        print( 'TP, FP, FN = ', TP, FP, FN)\n",
    "\n",
    "    pr = TP/(TP+FP)\n",
    "    re = TP/(TP+FN)\n",
    "    F_score = 2*pr*re/(pr+re)\n",
    "\n",
    "    \n",
    "    return (F_score )"
   ]
  },
  {
   "cell_type": "code",
   "execution_count": 4,
   "metadata": {
    "collapsed": true
   },
   "outputs": [],
   "source": [
    "# calculate scores \n",
    "def F1_estimate(df,rho, writing = False):\n",
    "    \n",
    "    TP_ = np.sum((df['prediction'] == +1) &  (df ['visible_label'] == +1))\n",
    "    FP_ = np.sum((df['prediction'] == +1) &  (df ['visible_label'] == -1))\n",
    "    FN_ = np.sum((df['prediction'] == -1) &  (df ['visible_label'] == +1))\n",
    "    if writing :\n",
    "        print( 'TP_, FP_, FN_ = ', TP_, FP_, FN_)\n",
    "    pr_ = TP_/(TP_ + FP_)\n",
    "    pr_ /= rho\n",
    "    re_ = TP_/(TP_ + FN_)\n",
    "    F_score_ = 2*pr_*re_/(pr_+re_)\n",
    "\n",
    "    if writing:\n",
    "        print('np.sum((df[prediction] == +1)) = ', np.sum((df['prediction'] == +1)))\n",
    "    \n",
    "\n",
    "    if np.isnan(F_score_):\n",
    "        F_score_=0\n",
    "\n",
    "    return ( F_score_)"
   ]
  },
  {
   "cell_type": "code",
   "execution_count": null,
   "metadata": {
    "collapsed": true
   },
   "outputs": [],
   "source": []
  },
  {
   "cell_type": "code",
   "execution_count": null,
   "metadata": {
    "collapsed": true
   },
   "outputs": [],
   "source": []
  }
 ],
 "metadata": {
  "kernelspec": {
   "display_name": "Python 3",
   "language": "python",
   "name": "python3"
  },
  "language_info": {
   "codemirror_mode": {
    "name": "ipython",
    "version": 3
   },
   "file_extension": ".py",
   "mimetype": "text/x-python",
   "name": "python",
   "nbconvert_exporter": "python",
   "pygments_lexer": "ipython3",
   "version": "3.6.8"
  }
 },
 "nbformat": 4,
 "nbformat_minor": 2
}
