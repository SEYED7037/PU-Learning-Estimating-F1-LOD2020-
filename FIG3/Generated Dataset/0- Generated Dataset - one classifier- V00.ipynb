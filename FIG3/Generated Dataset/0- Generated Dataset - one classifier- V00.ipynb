{
 "cells": [
  {
   "cell_type": "code",
   "execution_count": 19,
   "metadata": {
    "collapsed": true
   },
   "outputs": [],
   "source": [
    "import numpy as np\n",
    "import pandas as pd \n",
    "from sklearn.preprocessing import MinMaxScaler\n",
    "import matplotlib.pyplot as plt\n",
    "from scipy.stats import ks_2samp,wilcoxon\n",
    "import pickle\n",
    "import random\n",
    "import math"
   ]
  },
  {
   "cell_type": "code",
   "execution_count": 13,
   "metadata": {
    "collapsed": true
   },
   "outputs": [],
   "source": [
    "address_main = '/Users/vu/surfdrive/PostDoc/VUMC projrct/Related Matterials/Positive and unlabeled dataset/Code/Expected Value, and Variance/'\n",
    "\n",
    "\n",
    "address_Fig_saving = address_main +'AVG, STD, Generated.png'"
   ]
  },
  {
   "cell_type": "code",
   "execution_count": 14,
   "metadata": {
    "collapsed": true
   },
   "outputs": [],
   "source": [
    "size_data = 200\n",
    "number_of_lines = 1\n",
    "\n",
    "df_data = pd.DataFrame(columns=['x','y','real_label','visible_label','prediction'])"
   ]
  },
  {
   "cell_type": "code",
   "execution_count": 15,
   "metadata": {
    "collapsed": true
   },
   "outputs": [],
   "source": [
    "df_data['x'] = np.random.rand(size_data)\n",
    "df_data['y'] = np.random.rand(size_data)\n",
    "df_data['real_label'] = np.zeros(size_data)\n",
    "df_data['visible_label'] = np.zeros(size_data)"
   ]
  },
  {
   "cell_type": "code",
   "execution_count": 16,
   "metadata": {
    "collapsed": true
   },
   "outputs": [],
   "source": [
    "for i in range(0,size_data):\n",
    "    x = df_data.loc[i,'x']\n",
    "    y = df_data.loc[i,'y']\n",
    "    #if (3*x ** 3 - 0.5 *x  + 0.2) < ( 0 *y **2 + 1 * y + 0): \n",
    "    #if ((x-0.5)**2 + 0.3 > y) :\n",
    "    if (x  + 0.2) < ( y ): \n",
    "        df_data.loc[i,'real_label'] = +1"
   ]
  },
  {
   "cell_type": "code",
   "execution_count": 17,
   "metadata": {},
   "outputs": [
    {
     "data": {
      "text/html": [
       "<div>\n",
       "<style>\n",
       "    .dataframe thead tr:only-child th {\n",
       "        text-align: right;\n",
       "    }\n",
       "\n",
       "    .dataframe thead th {\n",
       "        text-align: left;\n",
       "    }\n",
       "\n",
       "    .dataframe tbody tr th {\n",
       "        vertical-align: top;\n",
       "    }\n",
       "</style>\n",
       "<table border=\"1\" class=\"dataframe\">\n",
       "  <thead>\n",
       "    <tr style=\"text-align: right;\">\n",
       "      <th></th>\n",
       "      <th>x</th>\n",
       "      <th>y</th>\n",
       "      <th>real_label</th>\n",
       "      <th>visible_label</th>\n",
       "      <th>prediction</th>\n",
       "    </tr>\n",
       "  </thead>\n",
       "  <tbody>\n",
       "    <tr>\n",
       "      <th>0</th>\n",
       "      <td>0.803508</td>\n",
       "      <td>0.381074</td>\n",
       "      <td>0.0</td>\n",
       "      <td>0.0</td>\n",
       "      <td>NaN</td>\n",
       "    </tr>\n",
       "    <tr>\n",
       "      <th>1</th>\n",
       "      <td>0.056900</td>\n",
       "      <td>0.529895</td>\n",
       "      <td>1.0</td>\n",
       "      <td>0.0</td>\n",
       "      <td>NaN</td>\n",
       "    </tr>\n",
       "  </tbody>\n",
       "</table>\n",
       "</div>"
      ],
      "text/plain": [
       "          x         y  real_label  visible_label prediction\n",
       "0  0.803508  0.381074         0.0            0.0        NaN\n",
       "1  0.056900  0.529895         1.0            0.0        NaN"
      ]
     },
     "execution_count": 17,
     "metadata": {},
     "output_type": "execute_result"
    }
   ],
   "source": [
    "df_data.head(2)"
   ]
  },
  {
   "cell_type": "code",
   "execution_count": null,
   "metadata": {
    "collapsed": true
   },
   "outputs": [],
   "source": []
  },
  {
   "cell_type": "code",
   "execution_count": null,
   "metadata": {
    "collapsed": true
   },
   "outputs": [],
   "source": []
  },
  {
   "cell_type": "code",
   "execution_count": 209,
   "metadata": {},
   "outputs": [
    {
     "name": "stdout",
     "output_type": "stream",
     "text": [
      "[-6.492682592689922, 1.8498004876304779]\n"
     ]
    }
   ],
   "source": [
    "#[[x1,y1]] = np.random.rand(1,2)\n",
    "#r = random.random()*math.pi*2\n",
    "#w = math.sin(r)/math.cos(r)\n",
    "#b = y1 - w*x1\n",
    "[w,b] = [-6.492682592689922, 1.8498004876304779]\n",
    "print([w,b])"
   ]
  },
  {
   "cell_type": "code",
   "execution_count": 210,
   "metadata": {},
   "outputs": [
    {
     "data": {
      "text/html": [
       "<div>\n",
       "<style>\n",
       "    .dataframe thead tr:only-child th {\n",
       "        text-align: right;\n",
       "    }\n",
       "\n",
       "    .dataframe thead th {\n",
       "        text-align: left;\n",
       "    }\n",
       "\n",
       "    .dataframe tbody tr th {\n",
       "        vertical-align: top;\n",
       "    }\n",
       "</style>\n",
       "<table border=\"1\" class=\"dataframe\">\n",
       "  <thead>\n",
       "    <tr style=\"text-align: right;\">\n",
       "      <th></th>\n",
       "      <th>x</th>\n",
       "      <th>y</th>\n",
       "      <th>real_label</th>\n",
       "      <th>visible_label</th>\n",
       "      <th>prediction</th>\n",
       "    </tr>\n",
       "  </thead>\n",
       "  <tbody>\n",
       "    <tr>\n",
       "      <th>0</th>\n",
       "      <td>0.803508</td>\n",
       "      <td>0.381074</td>\n",
       "      <td>0.0</td>\n",
       "      <td>0</td>\n",
       "      <td>0</td>\n",
       "    </tr>\n",
       "    <tr>\n",
       "      <th>1</th>\n",
       "      <td>0.056900</td>\n",
       "      <td>0.529895</td>\n",
       "      <td>1.0</td>\n",
       "      <td>1</td>\n",
       "      <td>1</td>\n",
       "    </tr>\n",
       "    <tr>\n",
       "      <th>2</th>\n",
       "      <td>0.930937</td>\n",
       "      <td>0.554816</td>\n",
       "      <td>0.0</td>\n",
       "      <td>0</td>\n",
       "      <td>0</td>\n",
       "    </tr>\n",
       "    <tr>\n",
       "      <th>3</th>\n",
       "      <td>0.461676</td>\n",
       "      <td>0.628538</td>\n",
       "      <td>0.0</td>\n",
       "      <td>0</td>\n",
       "      <td>0</td>\n",
       "    </tr>\n",
       "    <tr>\n",
       "      <th>4</th>\n",
       "      <td>0.736796</td>\n",
       "      <td>0.379693</td>\n",
       "      <td>0.0</td>\n",
       "      <td>0</td>\n",
       "      <td>0</td>\n",
       "    </tr>\n",
       "  </tbody>\n",
       "</table>\n",
       "</div>"
      ],
      "text/plain": [
       "          x         y  real_label  visible_label  prediction\n",
       "0  0.803508  0.381074         0.0              0           0\n",
       "1  0.056900  0.529895         1.0              1           1\n",
       "2  0.930937  0.554816         0.0              0           0\n",
       "3  0.461676  0.628538         0.0              0           0\n",
       "4  0.736796  0.379693         0.0              0           0"
      ]
     },
     "execution_count": 210,
     "metadata": {},
     "output_type": "execute_result"
    }
   ],
   "source": [
    "df_data['prediction'] = ((w * df_data['x'] +b - df_data['y'] )>0)*1\n",
    "d = np.sum(df_data['prediction']==+1)\n",
    "df_data.head(5)"
   ]
  },
  {
   "cell_type": "code",
   "execution_count": null,
   "metadata": {},
   "outputs": [],
   "source": []
  },
  {
   "cell_type": "code",
   "execution_count": null,
   "metadata": {},
   "outputs": [],
   "source": []
  },
  {
   "cell_type": "code",
   "execution_count": 211,
   "metadata": {
    "collapsed": true
   },
   "outputs": [],
   "source": [
    "N_visibles =   range(1,int(np.sum(df_data['real_label'])))\n",
    "max_counter_ws = 1\n",
    "max_counter_cs = 100"
   ]
  },
  {
   "cell_type": "code",
   "execution_count": 212,
   "metadata": {},
   "outputs": [
    {
     "name": "stderr",
     "output_type": "stream",
     "text": [
      "/Users/vu/anaconda3/lib/python3.6/site-packages/ipykernel_launcher.py:12: RuntimeWarning: invalid value encountered in double_scalars\n",
      "  if sys.path[0] == '':\n"
     ]
    }
   ],
   "source": [
    "dic_F1_={}\n",
    "dic_var = {}\n",
    "for N_visible in N_visibles:\n",
    "    rho_real = N_visible / np.sum(df_data['real_label'] == +1)\n",
    "    dic_F1_[rho_real]=[]\n",
    "    \n",
    "    for counter_rho in range(0,max_counter_cs):\n",
    "        ## Set visibile data points\n",
    "        \n",
    "        df_data['visible_label'] = 0\n",
    "        temp_visibles = np.random.choice(np.where(df_data['real_label']==+1)[0], size=N_visible, replace=False)\n",
    "        df_data.loc[temp_visibles,'visible_label'] = +1\n",
    "        # calculate estimated F1    \n",
    "        dic_F1_[rho_real].append(F1_estimate(df_data,rho_real))\n",
    "    ## calculated Variance\n",
    "    c = N_visible\n",
    "    b = np.sum((df_data['prediction']==+1) & (df_data['real_label']==+1))\n",
    "    a = np.sum(df_data['real_label']==+1)\n",
    "    #x = np.sum((df_data['prediction']==+1) & (df_data['visible_label']==+1))\n",
    "    var = b*c*(a-c)*(a-b)/(a**2 * (a-1))\n",
    "    VAR = (2/ (rho_real*d + c ))**2 * var\n",
    "    dic_var[rho_real] = VAR"
   ]
  },
  {
   "cell_type": "code",
   "execution_count": 213,
   "metadata": {},
   "outputs": [
    {
     "data": {
      "text/plain": [
       "0.411214953271028"
      ]
     },
     "execution_count": 213,
     "metadata": {},
     "output_type": "execute_result"
    }
   ],
   "source": [
    "mean = b*c/a\n",
    "F1 = 2*mean/(rho_real*d+c)\n",
    "F1"
   ]
  },
  {
   "cell_type": "code",
   "execution_count": null,
   "metadata": {},
   "outputs": [],
   "source": []
  },
  {
   "cell_type": "code",
   "execution_count": null,
   "metadata": {
    "collapsed": true
   },
   "outputs": [],
   "source": []
  },
  {
   "cell_type": "markdown",
   "metadata": {},
   "source": [
    "## Make Figure"
   ]
  },
  {
   "cell_type": "code",
   "execution_count": 223,
   "metadata": {},
   "outputs": [
    {
     "data": {
      "text/plain": [
       "<Figure size 720x360 with 0 Axes>"
      ]
     },
     "execution_count": 223,
     "metadata": {},
     "output_type": "execute_result"
    }
   ],
   "source": [
    "plt.figure(figsize=(10,5))"
   ]
  },
  {
   "cell_type": "code",
   "execution_count": 224,
   "metadata": {},
   "outputs": [
    {
     "data": {
      "text/plain": [
       "<matplotlib.collections.PathCollection at 0x1a21d5cf60>"
      ]
     },
     "execution_count": 224,
     "metadata": {},
     "output_type": "execute_result"
    }
   ],
   "source": [
    "for N_visible in N_visibles:\n",
    "    rho_real = N_visible / np.sum(df_data['real_label'] == +1)\n",
    "    plt.scatter(np.ones(max_counter_cs)*rho_real, dic_F1_[rho_real],alpha=0.15,c='k',s=8,marker='o')\n",
    "    \n",
    "        # real Mean\n",
    "    plt.scatter(x = rho_real, y = np.mean(dic_F1_[rho_real]), c='b',marker='_',label= None)\n",
    "        # real standard deviations\n",
    "    plt.scatter(x = rho_real, y = np.mean(dic_F1_[rho_real])+ np.std(dic_F1_[rho_real]) , c='r',marker='_', label =None)\n",
    "    plt.scatter(x = rho_real, y = np.mean(dic_F1_[rho_real])- np.std(dic_F1_[rho_real]) , c='r',marker='_',label=None)\n",
    "\n",
    "        # Just for lgends\n",
    "plt.scatter(np.ones(max_counter_cs)*rho_real, dic_F1_[rho_real],alpha=0.15,c='k',s=5,marker='o', label = r'$\\overline{F1}$')\n",
    "plt.scatter(x = rho_real, y = np.mean(dic_F1_[rho_real]), c='b',marker='_',label=r'mean($\\overline{F1}$)' )\n",
    "        # real standard deviations\n",
    "plt.scatter(x = rho_real, y = np.mean(dic_F1_[rho_real])+ np.std(dic_F1_[rho_real]) , c='r',marker='_',label=r'$\\overline{F1}$ +- std($\\overline{F1}$)' )\n",
    "\n",
    "\n"
   ]
  },
  {
   "cell_type": "code",
   "execution_count": 225,
   "metadata": {},
   "outputs": [
    {
     "data": {
      "text/plain": [
       "[<matplotlib.lines.Line2D at 0x1a219e8550>]"
      ]
     },
     "execution_count": 225,
     "metadata": {},
     "output_type": "execute_result"
    }
   ],
   "source": [
    "    \n",
    "# calculated mean\n",
    "plt.plot(dic_var.keys(), list(F1* np.ones(len(dic_var))) , c= 'b', linestyle=':',label= 'E(F1)')\n",
    "# calculated standard deviations\n",
    "plt.plot(dic_var.keys(), F1 + np.sqrt(list(dic_var.values())), c = 'r' , linestyle=':', label = 'E(F1) +- std(F1)' )\n",
    "plt.plot(dic_var.keys(), F1 - np.sqrt(list(dic_var.values())), c = 'r', linestyle=':',label=None )"
   ]
  },
  {
   "cell_type": "code",
   "execution_count": 226,
   "metadata": {},
   "outputs": [
    {
     "data": {
      "image/png": "[encoded data removed]",
      "text/plain": [
       "<Figure size 720x360 with 1 Axes>"
      ]
     },
     "metadata": {},
     "output_type": "display_data"
    }
   ],
   "source": [
    "plt.xlabel(r\"$\\rho$\", fontsize = 14)\n",
    "plt.ylabel(r\"$\\overline{F1}$\", fontsize = 14)\n",
    "plt.grid(axis='both')\n",
    "plt.legend()\n",
    "#plt.ylim([-0.3,1.6])\n",
    "\n",
    "plt.savefig(address_main +'AVG, STD, GeneratedDataset.png')\n",
    "\n",
    "plt.show()"
   ]
  },
  {
   "cell_type": "code",
   "execution_count": null,
   "metadata": {
    "collapsed": true
   },
   "outputs": [],
   "source": []
  },
  {
   "cell_type": "code",
   "execution_count": null,
   "metadata": {},
   "outputs": [],
   "source": []
  },
  {
   "cell_type": "markdown",
   "metadata": {},
   "source": [
    "# FUNCTIONS"
   ]
  },
  {
   "cell_type": "code",
   "execution_count": 145,
   "metadata": {
    "collapsed": true
   },
   "outputs": [],
   "source": [
    "# Linear Function\n",
    "\n",
    "def g(W,X):\n",
    "    \n",
    "    return np.dot(X,w[0,0:-1]) + w[0,-1]"
   ]
  },
  {
   "cell_type": "code",
   "execution_count": 146,
   "metadata": {
    "collapsed": true
   },
   "outputs": [],
   "source": [
    "def predicted_labels (df,W):\n",
    "    N_features = W.shape[1] -1\n",
    "    for i in range (0 , len(df)):\n",
    "        Xi = df.iloc[i,0:N_features]\n",
    "        g_xi = g(W, Xi)\n",
    "        if g_xi > 0 :\n",
    "            df.loc[i,'prediction'] = +1\n",
    "        else:\n",
    "            df.loc[i,'prediction'] = -1\n",
    "    return(df['prediction'])"
   ]
  },
  {
   "cell_type": "code",
   "execution_count": 147,
   "metadata": {
    "collapsed": true
   },
   "outputs": [],
   "source": [
    "# calculate scores \n",
    "def F1_scores(df, writing = False):\n",
    "    TP = np.sum((df['prediction'] == +1) &  (df ['real_label'] == +1))\n",
    "    FP = np.sum((df['prediction'] == +1) &  (df ['real_label'] == 0))\n",
    "    FN = np.sum((df['prediction'] == 0) &  (df ['real_label'] == +1))\n",
    "    if writing :\n",
    "        print( 'TP, FP, FN = ', TP, FP, FN)\n",
    "\n",
    "    pr = TP/(TP+FP)\n",
    "    re = TP/(TP+FN)\n",
    "    F_score = 2*pr*re/(pr+re)\n",
    "\n",
    "    \n",
    "    return (F_score )"
   ]
  },
  {
   "cell_type": "code",
   "execution_count": 148,
   "metadata": {
    "collapsed": true
   },
   "outputs": [],
   "source": [
    "# calculate scores \n",
    "def F1_estimate(df,rho, writing = False):\n",
    "    \n",
    "    TP_ = np.sum((df['prediction'] == +1) &  (df ['visible_label'] == +1))\n",
    "    FP_ = np.sum((df['prediction'] == +1) &  (df ['visible_label'] == 0))\n",
    "    FN_ = np.sum((df['prediction'] == 0) &  (df ['visible_label'] == +1))\n",
    "    if writing :\n",
    "        print( 'TP_, FP_, FN_ = ', TP_, FP_, FN_)\n",
    "    pr_ = TP_/(TP_ + FP_)\n",
    "    pr_ /= rho\n",
    "    re_ = TP_/(TP_ + FN_)\n",
    "    F_score_ = 2*pr_*re_/(pr_+re_)\n",
    "\n",
    "    if writing:\n",
    "        print('np.sum((df[prediction] == +1)) = ', np.sum((df['prediction'] == +1)))\n",
    "    \n",
    "\n",
    "    if np.isnan(F_score_):\n",
    "        F_score_=0\n",
    "\n",
    "    return ( F_score_)"
   ]
  },
  {
   "cell_type": "code",
   "execution_count": null,
   "metadata": {
    "collapsed": true
   },
   "outputs": [],
   "source": []
  },
  {
   "cell_type": "code",
   "execution_count": 152,
   "metadata": {
    "collapsed": true
   },
   "outputs": [],
   "source": [
    "\n",
    "def viz(df_data,address=''):\n",
    "    size_data = len(df_data)\n",
    "    c=[]\n",
    "    alpha= []\n",
    "    S= 80\n",
    "    for i in range(0,size_data):\n",
    "        if df_data.loc[i,'real_label'] == 0 :\n",
    "            c.append('b')\n",
    "        else:\n",
    "            c.append('r')    \n",
    "\n",
    "        if df_data.loc[i,'visible_label'] == 0 :\n",
    "            alpha.append(1)\n",
    "        else:\n",
    "            alpha.append(8)\n",
    "\n",
    "\n",
    "    plt.scatter(df_data['x'],df_data['y'], alpha=0.5,linewidths=alpha,edgecolors = 'k', c=c,s=S)\n",
    "    plt.xlim([0,1])\n",
    "    plt.ylim([0,1])\n",
    "    if (address!='') :\n",
    "        print('saved')\n",
    "        plt.savefig(address)\n",
    "    plt.show()\n",
    "\n",
    "\n",
    "\n"
   ]
  },
  {
   "cell_type": "code",
   "execution_count": 153,
   "metadata": {},
   "outputs": [
    {
     "data": {
      "image/png": "[encoded data removed]",
      "text/plain": [
       "<Figure size 432x288 with 1 Axes>"
      ]
     },
     "metadata": {},
     "output_type": "display_data"
    }
   ],
   "source": [
    "viz(df_data)"
   ]
  },
  {
   "cell_type": "code",
   "execution_count": 154,
   "metadata": {},
   "outputs": [
    {
     "data": {
      "text/html": [
       "<div>\n",
       "<style>\n",
       "    .dataframe thead tr:only-child th {\n",
       "        text-align: right;\n",
       "    }\n",
       "\n",
       "    .dataframe thead th {\n",
       "        text-align: left;\n",
       "    }\n",
       "\n",
       "    .dataframe tbody tr th {\n",
       "        vertical-align: top;\n",
       "    }\n",
       "</style>\n",
       "<table border=\"1\" class=\"dataframe\">\n",
       "  <thead>\n",
       "    <tr style=\"text-align: right;\">\n",
       "      <th></th>\n",
       "      <th>x</th>\n",
       "      <th>y</th>\n",
       "      <th>real_label</th>\n",
       "      <th>visible_label</th>\n",
       "      <th>prediction</th>\n",
       "    </tr>\n",
       "  </thead>\n",
       "  <tbody>\n",
       "    <tr>\n",
       "      <th>0</th>\n",
       "      <td>0.803508</td>\n",
       "      <td>0.381074</td>\n",
       "      <td>0.0</td>\n",
       "      <td>0</td>\n",
       "      <td>0</td>\n",
       "    </tr>\n",
       "    <tr>\n",
       "      <th>1</th>\n",
       "      <td>0.056900</td>\n",
       "      <td>0.529895</td>\n",
       "      <td>1.0</td>\n",
       "      <td>0</td>\n",
       "      <td>1</td>\n",
       "    </tr>\n",
       "    <tr>\n",
       "      <th>2</th>\n",
       "      <td>0.930937</td>\n",
       "      <td>0.554816</td>\n",
       "      <td>0.0</td>\n",
       "      <td>0</td>\n",
       "      <td>0</td>\n",
       "    </tr>\n",
       "    <tr>\n",
       "      <th>3</th>\n",
       "      <td>0.461676</td>\n",
       "      <td>0.628538</td>\n",
       "      <td>0.0</td>\n",
       "      <td>0</td>\n",
       "      <td>1</td>\n",
       "    </tr>\n",
       "    <tr>\n",
       "      <th>4</th>\n",
       "      <td>0.736796</td>\n",
       "      <td>0.379693</td>\n",
       "      <td>0.0</td>\n",
       "      <td>0</td>\n",
       "      <td>0</td>\n",
       "    </tr>\n",
       "    <tr>\n",
       "      <th>5</th>\n",
       "      <td>0.802097</td>\n",
       "      <td>0.051653</td>\n",
       "      <td>0.0</td>\n",
       "      <td>0</td>\n",
       "      <td>1</td>\n",
       "    </tr>\n",
       "    <tr>\n",
       "      <th>6</th>\n",
       "      <td>0.661980</td>\n",
       "      <td>0.630887</td>\n",
       "      <td>0.0</td>\n",
       "      <td>0</td>\n",
       "      <td>0</td>\n",
       "    </tr>\n",
       "    <tr>\n",
       "      <th>7</th>\n",
       "      <td>0.778342</td>\n",
       "      <td>0.597911</td>\n",
       "      <td>0.0</td>\n",
       "      <td>0</td>\n",
       "      <td>0</td>\n",
       "    </tr>\n",
       "    <tr>\n",
       "      <th>8</th>\n",
       "      <td>0.750602</td>\n",
       "      <td>0.911730</td>\n",
       "      <td>0.0</td>\n",
       "      <td>0</td>\n",
       "      <td>0</td>\n",
       "    </tr>\n",
       "    <tr>\n",
       "      <th>9</th>\n",
       "      <td>0.757368</td>\n",
       "      <td>0.473188</td>\n",
       "      <td>0.0</td>\n",
       "      <td>0</td>\n",
       "      <td>0</td>\n",
       "    </tr>\n",
       "    <tr>\n",
       "      <th>10</th>\n",
       "      <td>0.755960</td>\n",
       "      <td>0.966155</td>\n",
       "      <td>1.0</td>\n",
       "      <td>0</td>\n",
       "      <td>0</td>\n",
       "    </tr>\n",
       "    <tr>\n",
       "      <th>11</th>\n",
       "      <td>0.335278</td>\n",
       "      <td>0.626651</td>\n",
       "      <td>1.0</td>\n",
       "      <td>0</td>\n",
       "      <td>1</td>\n",
       "    </tr>\n",
       "    <tr>\n",
       "      <th>12</th>\n",
       "      <td>0.128652</td>\n",
       "      <td>0.133746</td>\n",
       "      <td>0.0</td>\n",
       "      <td>0</td>\n",
       "      <td>1</td>\n",
       "    </tr>\n",
       "    <tr>\n",
       "      <th>13</th>\n",
       "      <td>0.785382</td>\n",
       "      <td>0.572823</td>\n",
       "      <td>0.0</td>\n",
       "      <td>0</td>\n",
       "      <td>0</td>\n",
       "    </tr>\n",
       "    <tr>\n",
       "      <th>14</th>\n",
       "      <td>0.805879</td>\n",
       "      <td>0.884350</td>\n",
       "      <td>0.0</td>\n",
       "      <td>0</td>\n",
       "      <td>0</td>\n",
       "    </tr>\n",
       "    <tr>\n",
       "      <th>15</th>\n",
       "      <td>0.388489</td>\n",
       "      <td>0.618089</td>\n",
       "      <td>1.0</td>\n",
       "      <td>1</td>\n",
       "      <td>1</td>\n",
       "    </tr>\n",
       "    <tr>\n",
       "      <th>16</th>\n",
       "      <td>0.059493</td>\n",
       "      <td>0.724558</td>\n",
       "      <td>1.0</td>\n",
       "      <td>1</td>\n",
       "      <td>1</td>\n",
       "    </tr>\n",
       "    <tr>\n",
       "      <th>17</th>\n",
       "      <td>0.237367</td>\n",
       "      <td>0.452715</td>\n",
       "      <td>1.0</td>\n",
       "      <td>1</td>\n",
       "      <td>1</td>\n",
       "    </tr>\n",
       "    <tr>\n",
       "      <th>18</th>\n",
       "      <td>0.664834</td>\n",
       "      <td>0.199790</td>\n",
       "      <td>0.0</td>\n",
       "      <td>0</td>\n",
       "      <td>1</td>\n",
       "    </tr>\n",
       "    <tr>\n",
       "      <th>19</th>\n",
       "      <td>0.063623</td>\n",
       "      <td>0.238551</td>\n",
       "      <td>0.0</td>\n",
       "      <td>0</td>\n",
       "      <td>1</td>\n",
       "    </tr>\n",
       "  </tbody>\n",
       "</table>\n",
       "</div>"
      ],
      "text/plain": [
       "           x         y  real_label  visible_label  prediction\n",
       "0   0.803508  0.381074         0.0              0           0\n",
       "1   0.056900  0.529895         1.0              0           1\n",
       "2   0.930937  0.554816         0.0              0           0\n",
       "3   0.461676  0.628538         0.0              0           1\n",
       "4   0.736796  0.379693         0.0              0           0\n",
       "5   0.802097  0.051653         0.0              0           1\n",
       "6   0.661980  0.630887         0.0              0           0\n",
       "7   0.778342  0.597911         0.0              0           0\n",
       "8   0.750602  0.911730         0.0              0           0\n",
       "9   0.757368  0.473188         0.0              0           0\n",
       "10  0.755960  0.966155         1.0              0           0\n",
       "11  0.335278  0.626651         1.0              0           1\n",
       "12  0.128652  0.133746         0.0              0           1\n",
       "13  0.785382  0.572823         0.0              0           0\n",
       "14  0.805879  0.884350         0.0              0           0\n",
       "15  0.388489  0.618089         1.0              1           1\n",
       "16  0.059493  0.724558         1.0              1           1\n",
       "17  0.237367  0.452715         1.0              1           1\n",
       "18  0.664834  0.199790         0.0              0           1\n",
       "19  0.063623  0.238551         0.0              0           1"
      ]
     },
     "execution_count": 154,
     "metadata": {},
     "output_type": "execute_result"
    }
   ],
   "source": [
    "\n",
    "df_data.head(20)"
   ]
  },
  {
   "cell_type": "code",
   "execution_count": null,
   "metadata": {
    "collapsed": true
   },
   "outputs": [],
   "source": []
  },
  {
   "cell_type": "code",
   "execution_count": 160,
   "metadata": {},
   "outputs": [
    {
     "name": "stdout",
     "output_type": "stream",
     "text": [
      "[-6.492682592689922, 1.8498004876304779]\n"
     ]
    }
   ],
   "source": [
    "[[x1,y1]] = np.random.rand(1,2)\n",
    "r = random.random()*math.pi*2\n",
    "w = math.sin(r)/math.cos(r)\n",
    "b = y1 - w*x1\n",
    "print([w,b])"
   ]
  },
  {
   "cell_type": "code",
   "execution_count": 208,
   "metadata": {},
   "outputs": [
    {
     "data": {
      "image/png": "[encoded data removed]",
      "text/plain": [
       "<Figure size 432x288 with 1 Axes>"
      ]
     },
     "metadata": {},
     "output_type": "display_data"
    }
   ],
   "source": [
    "\n",
    "plt.plot([-10,10], [-10*w+b,10*w+b],c='k',alpha=0.4)\n",
    "plt.xlim([0,1])\n",
    "plt.ylim([0,1])\n",
    "plt.show()"
   ]
  },
  {
   "cell_type": "code",
   "execution_count": 159,
   "metadata": {},
   "outputs": [
    {
     "name": "stdout",
     "output_type": "stream",
     "text": [
      "[0.6534173671217618, -0.36121763684334757]\n"
     ]
    }
   ],
   "source": []
  },
  {
   "cell_type": "code",
   "execution_count": null,
   "metadata": {
    "collapsed": true
   },
   "outputs": [],
   "source": []
  }
 ],
 "metadata": {
  "kernelspec": {
   "display_name": "Python 3",
   "language": "python",
   "name": "python3"
  },
  "language_info": {
   "codemirror_mode": {
    "name": "ipython",
    "version": 3
   },
   "file_extension": ".py",
   "mimetype": "text/x-python",
   "name": "python",
   "nbconvert_exporter": "python",
   "pygments_lexer": "ipython3",
   "version": "3.6.8"
  }
 },
 "nbformat": 4,
 "nbformat_minor": 2
}
