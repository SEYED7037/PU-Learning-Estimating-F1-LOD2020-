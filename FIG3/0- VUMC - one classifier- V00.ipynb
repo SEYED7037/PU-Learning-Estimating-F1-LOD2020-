{
 "cells": [
  {
   "cell_type": "code",
   "execution_count": 3,
   "metadata": {
    "collapsed": true
   },
   "outputs": [],
   "source": [
    "import numpy as np\n",
    "import pandas as pd \n",
    "from sklearn.preprocessing import MinMaxScaler\n",
    "import matplotlib.pyplot as plt\n",
    "from scipy.stats import ks_2samp,wilcoxon\n",
    "import pickle\n",
    "import random\n",
    "import math\n",
    "\n",
    "import pandas as  pd\n",
    "import numpy as np\n",
    "import math\n",
    "\n",
    "import time \n",
    "from IPython.display import clear_output\n",
    "import matplotlib.pyplot as plt\n",
    "import pyfpgrowth\n",
    "from mlxtend.frequent_patterns import apriori\n",
    "import random\n",
    "import pickle # To write and read variables\n",
    "from IPython.display import clear_output\n",
    "from scipy.stats import spearmanr\n",
    "\n",
    "import sys\n",
    "sys.path.append(\"/Users/vu/surfdrive/PostDoc/VUMC projrct/Codes/PyCharm/\")\n",
    "from analysis_results import analysis_results"
   ]
  },
  {
   "cell_type": "code",
   "execution_count": 4,
   "metadata": {
    "collapsed": true
   },
   "outputs": [],
   "source": [
    "address_main = '/Users/vu/surfdrive/PostDoc/VUMC projrct/Related Matterials/Positive and unlabeled dataset/Code/Expected Value, and Variance/'\n",
    "\n",
    "\n",
    "address_Fig_saving = address_main +'AVG, STD, Generated.png'"
   ]
  },
  {
   "cell_type": "code",
   "execution_count": 5,
   "metadata": {
    "collapsed": true
   },
   "outputs": [],
   "source": [
    "address_Middle_data = \"/Users/vu/surfdrive/PostDoc/VUMC projrct/Data/Middle Data/\"\n",
    "address_results = \"/Users/vu/surfdrive/PostDoc/VUMC projrct/Results/\"\n",
    "address_DBCcode_Table = address_Middle_data + 'Pseudo_id, DBC_ID, DbcDiagnose_code, DbcDiagnose_omschrijving.csv'\n",
    "address_new_data2_yearly = address_Middle_data + \"newDataset_02_yearly/\"\n",
    "address_relation_tables = address_Middle_data + \"Relation Tables/\"\n",
    "address_ground_truth = '/Users/vu/surfdrive/PostDoc/VUMC projrct/Data/Grond Truthes/'\n",
    "address_stored_results = address_results + 'LIst of Patients for a disease 2/stored results/'\n",
    "address_save_fig = address_stored_results + 'Analysis Figs/'"
   ]
  },
  {
   "cell_type": "code",
   "execution_count": 7,
   "metadata": {
    "collapsed": true
   },
   "outputs": [],
   "source": [
    "address_multiple_PIDs = '/Users/vu/surfdrive/PostDoc/VUMC projrct/Data/Row Data/Pseudoids met zelfde patientnummer.xlsx'\n",
    "df_multiple_PIDs = pd.read_excel(address_multiple_PIDs)\n",
    "df_multiple_PIDs = df_multiple_PIDs[df_multiple_PIDs['MINHistorischPseudo_id'] != df_multiple_PIDs['HistorischPseudo_id']]\n",
    "dic_multiple_PIDs = df_multiple_PIDs.set_index('HistorischPseudo_id')['MINHistorischPseudo_id'].to_dict()"
   ]
  },
  {
   "cell_type": "code",
   "execution_count": 8,
   "metadata": {},
   "outputs": [
    {
     "name": "stdout",
     "output_type": "stream",
     "text": [
      "DONE\n"
     ]
    }
   ],
   "source": [
    "L1= []\n",
    "L_paper=[]\n",
    "ALL_F1 = []\n",
    "ALL_ESTIMATED_F1 = []\n",
    "ALL_LEE_SCORE = []\n",
    "for training_size in 1* [ 42]:\n",
    "    for year in [ 2017]: #[2013, 2014, 2015, 2016, 2017]:\n",
    "        for disease in ['Nierschade']: # #['Nierschade', 'Diabetes', 'Hoofdhals']:\n",
    "            #print(str(year) , '     -->  ', disease)\n",
    "            ticklabels = [ 'FP\\nDBC']\n",
    "        ########\n",
    "            plt.figure(num=None, figsize=(6, 10), dpi=80, facecolor='w', edgecolor='k')\n",
    "            ax1=plt.subplot(2, 1, 1)\n",
    "            ax2=plt.subplot(2, 1, 2)\n",
    "            #  #  #  # #  #  #  # #  #  #  # #  #  #  # #  #  #  # #  #  #  # #  #  #  # #  #  #  # #  #  #  # \n",
    "            address_ground_truth_file = address_ground_truth + str(year) + ',' + disease + '.txt'\n",
    "            with open(address_ground_truth_file) as f:\n",
    "                all_patients_with_disease = f.read().splitlines()\n",
    "            all_patients_with_disease = list(map(int, all_patients_with_disease)) # Strings 2 Integers\n",
    "            all_patients_with_disease = [dic_multiple_PIDs.get(item,item) for item in all_patients_with_disease]\n",
    "            all_patients_with_disease = list(set(all_patients_with_disease))\n",
    "            #  #  #  # #  #  #  # #  #  #  # #  #  #  # #  #  #  # #  #  #  # #  #  #  # #  #  #  # #  #  #  # \n",
    "            all_kidney_patients = all_patients_with_disease\n",
    "            #print(\"number of all patients = \", len(all_kidney_patients))\n",
    "            #  #  #  # #  #  #  # #  #  #  # #  #  #  # #  #  #  # #  #  #  # #  #  #  # #  #  #  # #  #  #  # \n",
    "            train_PIDs = np.random.choice(all_kidney_patients, training_size, replace=False)\n",
    "            #print(\"number of sample patients = \", len(train_PIDs))\n",
    "            #  #  #  # #  #  #  # #  #  #  # #  #  #  # #  #  #  # #  #  #  # #  #  #  # #  #  #  # #  #  #  # \n",
    "            address_temp = address_stored_results+'results_'+ str(year) + '_' + disease + '.pckl'\n",
    "            f = open(address_temp, 'rb')\n",
    "            results = pickle.load(f)\n",
    "            f.close()\n",
    "            #print('number of experiments: ', len(results))\n",
    "            #  #  #  # #  #  #  # #  #  #  # #  #  #  # #  #  #  # #  #  #  # #  #  #  # #  #  #  # #  #  #  # \n",
    "\n",
    "            FP_threshold = 0\n",
    "            DBC_threshold = 0\n",
    "            best_f1s = []\n",
    "            selected_f1s =[]\n",
    "            rohs = []\n",
    "            counter = 0\n",
    "            all_f1s= []\n",
    "            all_precision_sample=[]\n",
    "            all_recall_sample = []\n",
    "            all_f1s_sample = []\n",
    "\n",
    "            all_paper_metric = []\n",
    "\n",
    "            for result in [results[0]]:\n",
    "                counter += 1\n",
    "                df_results = result[\"df_result\"]\n",
    "                ticklabels.append(str(result['support_FP_percentage']) + '\\n' + str(result['support_DBC_percentage']))\n",
    "                if len(df_results) > 0 :\n",
    "                    list_f1 = []\n",
    "                    list_f1_sample = []\n",
    "                    list_FP = []\n",
    "                    list_DBC= []\n",
    "                    list_precision = []\n",
    "                    list_precision_sample = []\n",
    "                    list_recall = []\n",
    "                    list_recall_sample = []\n",
    "\n",
    "                    list_paper_metric = []\n",
    "\n",
    "\n",
    "                    for FP_threshold in range(0,np.max(df_results[\"#missed_FP\"])+1):\n",
    "                        for DBC_threshold in range(0,np.max(df_results[\"#missed_DBC\"])+1):\n",
    "\n",
    "\n",
    "                            selected_results = df_results[(df_results[\"#missed_FP\"]<=FP_threshold) & (df_results[\"#missed_DBC\"]<=DBC_threshold) ][\"Pseudo_id\"]\n",
    "                            acc_measures = analysis_results(result_PIDs=selected_results, ground_truth=all_kidney_patients)\n",
    "\n",
    "                            sample_Recall = len(set(train_PIDs).intersection(selected_results))/ len(train_PIDs)\n",
    "                            sample_precision = len(set(train_PIDs).intersection(selected_results))/ len(selected_results)\n",
    "                            #sample_f1 = 2 * (sample_Recall * sample_precision) / (sample_Recall + sample_precision)\n",
    "\n",
    "                            list_FP.append(FP_threshold)\n",
    "                            list_DBC.append(DBC_threshold)\n",
    "                            list_f1.append(acc_measures['F_measure'])\n",
    "                            list_precision.append(acc_measures['precision'])\n",
    "                            list_precision_sample.append(sample_precision)\n",
    "                            list_recall.append(acc_measures['recall'])\n",
    "                            list_recall_sample.append(sample_Recall)\n",
    "\n",
    "                            list_paper_metric.append((sample_Recall**2)/len(selected_results))\n",
    "                            #list_f1_sample.append(sample_f1)\n",
    "\n",
    "                    # Fix the problem of small values for Precision_samples\n",
    "                    best_sample_recall = np.max(list_recall_sample)\n",
    "                    best_sample_precision = np.max(list_precision_sample)\n",
    "                    roh_real = len(all_patients_with_disease) / len(train_PIDs)\n",
    "                    roh= roh_real\n",
    "                    #roh = 1/best_sample_precision\n",
    "                    rohs.append(roh)\n",
    "\n",
    "                    list_precision_sample_multiply_roh  = [x * roh for x in list_precision_sample]\n",
    "                    list_f1_sample= [a*b for a,b in zip(list_precision_sample_multiply_roh,list_recall_sample)]\n",
    "\n",
    "\n",
    "                    all_precision_sample = all_precision_sample + list_precision_sample\n",
    "                    all_recall_sample = all_recall_sample + list_recall_sample\n",
    "\n",
    "                    all_f1s = all_f1s + list_f1\n",
    "                    all_f1s_sample = all_f1s_sample + list_f1_sample\n",
    "\n",
    "\n",
    "                    all_paper_metric = all_paper_metric + list_paper_metric\n",
    "\n",
    "\n",
    "\n",
    "               \n",
    "\n",
    "                    arg_f1_sample_max = np.argmax(list_f1_sample) \n",
    "                   \n",
    "            #  #  #  # #  #  #  # #  #  #  # #  #  #  # #  #  #  # #  #  #  # #  #  #  # #  #  #  # #  #  #  # \n",
    "            roh2 = np.min(rohs)\n",
    "            all_precision_sample_multiply_roh  = [x * roh2 for x in all_precision_sample]\n",
    "            \n",
    "            \n",
    "            all_f1s_sample2 = 2 * (np.array(all_precision_sample_multiply_roh) * np.array(all_recall_sample)) / (np.array(all_precision_sample_multiply_roh) + np.array(all_recall_sample))\n",
    "            all_f1s_sample2 = list(all_f1s_sample2)\n",
    "            all_f1s_sample2 = [0 if math.isnan(x) else x for x in all_f1s_sample2] # change nans to 0\n",
    "\n",
    "            arg_maximum_all = np.argmax(all_f1s_sample2)\n",
    "\n",
    "            arg_maximum_paper = np.argmax(all_paper_metric)\n",
    "             #  #  #  # #  #  #  # #  #  #  # #  #  #  # #  #  #  # #  #  #  # #  #  #  # #  #  #  # #  #  #  # \n",
    "            #temp +=1\n",
    "            #print(temp)\n",
    "            L1.append(all_f1s[arg_maximum_all])\n",
    "            L_paper.append(all_f1s[arg_maximum_paper])\n",
    "\n",
    "            #  #  #  # #  #  #  # #  #  #  # #  #  #  # #  #  #  # #  #  #  # #  #  #  # #  #  #  # #  #  #  # \n",
    "            \n",
    "            ALL_F1 = ALL_F1 + all_f1s\n",
    "            ALL_ESTIMATED_F1 = ALL_ESTIMATED_F1 + all_f1s_sample2\n",
    "            ALL_LEE_SCORE = ALL_LEE_SCORE + all_paper_metric\n",
    "            \n",
    "print('DONE')\n",
    "             "
   ]
  },
  {
   "cell_type": "code",
   "execution_count": null,
   "metadata": {
    "collapsed": true
   },
   "outputs": [],
   "source": []
  },
  {
   "cell_type": "code",
   "execution_count": null,
   "metadata": {
    "collapsed": true
   },
   "outputs": [],
   "source": []
  },
  {
   "cell_type": "code",
   "execution_count": null,
   "metadata": {
    "collapsed": true
   },
   "outputs": [],
   "source": []
  },
  {
   "cell_type": "code",
   "execution_count": null,
   "metadata": {
    "collapsed": true
   },
   "outputs": [],
   "source": []
  },
  {
   "cell_type": "code",
   "execution_count": null,
   "metadata": {
    "collapsed": true
   },
   "outputs": [],
   "source": []
  },
  {
   "cell_type": "code",
   "execution_count": null,
   "metadata": {
    "collapsed": true
   },
   "outputs": [],
   "source": []
  },
  {
   "cell_type": "code",
   "execution_count": null,
   "metadata": {
    "collapsed": true
   },
   "outputs": [],
   "source": []
  },
  {
   "cell_type": "code",
   "execution_count": 14,
   "metadata": {
    "collapsed": true
   },
   "outputs": [],
   "source": [
    "size_data = 200\n",
    "number_of_lines = 1\n",
    "\n",
    "df_data = pd.DataFrame(columns=['x','y','real_label','visible_label','prediction'])"
   ]
  },
  {
   "cell_type": "code",
   "execution_count": 15,
   "metadata": {
    "collapsed": true
   },
   "outputs": [],
   "source": [
    "df_data['x'] = np.random.rand(size_data)\n",
    "df_data['y'] = np.random.rand(size_data)\n",
    "df_data['real_label'] = np.zeros(size_data)\n",
    "df_data['visible_label'] = np.zeros(size_data)"
   ]
  },
  {
   "cell_type": "code",
   "execution_count": 16,
   "metadata": {
    "collapsed": true
   },
   "outputs": [],
   "source": [
    "for i in range(0,size_data):\n",
    "    x = df_data.loc[i,'x']\n",
    "    y = df_data.loc[i,'y']\n",
    "    #if (3*x ** 3 - 0.5 *x  + 0.2) < ( 0 *y **2 + 1 * y + 0): \n",
    "    #if ((x-0.5)**2 + 0.3 > y) :\n",
    "    if (x  + 0.2) < ( y ): \n",
    "        df_data.loc[i,'real_label'] = +1"
   ]
  },
  {
   "cell_type": "code",
   "execution_count": 17,
   "metadata": {},
   "outputs": [
    {
     "data": {
      "text/html": [
       "<div>\n",
       "<style>\n",
       "    .dataframe thead tr:only-child th {\n",
       "        text-align: right;\n",
       "    }\n",
       "\n",
       "    .dataframe thead th {\n",
       "        text-align: left;\n",
       "    }\n",
       "\n",
       "    .dataframe tbody tr th {\n",
       "        vertical-align: top;\n",
       "    }\n",
       "</style>\n",
       "<table border=\"1\" class=\"dataframe\">\n",
       "  <thead>\n",
       "    <tr style=\"text-align: right;\">\n",
       "      <th></th>\n",
       "      <th>x</th>\n",
       "      <th>y</th>\n",
       "      <th>real_label</th>\n",
       "      <th>visible_label</th>\n",
       "      <th>prediction</th>\n",
       "    </tr>\n",
       "  </thead>\n",
       "  <tbody>\n",
       "    <tr>\n",
       "      <th>0</th>\n",
       "      <td>0.803508</td>\n",
       "      <td>0.381074</td>\n",
       "      <td>0.0</td>\n",
       "      <td>0.0</td>\n",
       "      <td>NaN</td>\n",
       "    </tr>\n",
       "    <tr>\n",
       "      <th>1</th>\n",
       "      <td>0.056900</td>\n",
       "      <td>0.529895</td>\n",
       "      <td>1.0</td>\n",
       "      <td>0.0</td>\n",
       "      <td>NaN</td>\n",
       "    </tr>\n",
       "  </tbody>\n",
       "</table>\n",
       "</div>"
      ],
      "text/plain": [
       "          x         y  real_label  visible_label prediction\n",
       "0  0.803508  0.381074         0.0            0.0        NaN\n",
       "1  0.056900  0.529895         1.0            0.0        NaN"
      ]
     },
     "execution_count": 17,
     "metadata": {},
     "output_type": "execute_result"
    }
   ],
   "source": [
    "df_data.head(2)"
   ]
  },
  {
   "cell_type": "code",
   "execution_count": null,
   "metadata": {
    "collapsed": true
   },
   "outputs": [],
   "source": []
  },
  {
   "cell_type": "code",
   "execution_count": null,
   "metadata": {
    "collapsed": true
   },
   "outputs": [],
   "source": []
  },
  {
   "cell_type": "code",
   "execution_count": 209,
   "metadata": {},
   "outputs": [
    {
     "name": "stdout",
     "output_type": "stream",
     "text": [
      "[-6.492682592689922, 1.8498004876304779]\n"
     ]
    }
   ],
   "source": [
    "#[[x1,y1]] = np.random.rand(1,2)\n",
    "#r = random.random()*math.pi*2\n",
    "#w = math.sin(r)/math.cos(r)\n",
    "#b = y1 - w*x1\n",
    "[w,b] = [-6.492682592689922, 1.8498004876304779]\n",
    "print([w,b])"
   ]
  },
  {
   "cell_type": "code",
   "execution_count": 210,
   "metadata": {},
   "outputs": [
    {
     "data": {
      "text/html": [
       "<div>\n",
       "<style>\n",
       "    .dataframe thead tr:only-child th {\n",
       "        text-align: right;\n",
       "    }\n",
       "\n",
       "    .dataframe thead th {\n",
       "        text-align: left;\n",
       "    }\n",
       "\n",
       "    .dataframe tbody tr th {\n",
       "        vertical-align: top;\n",
       "    }\n",
       "</style>\n",
       "<table border=\"1\" class=\"dataframe\">\n",
       "  <thead>\n",
       "    <tr style=\"text-align: right;\">\n",
       "      <th></th>\n",
       "      <th>x</th>\n",
       "      <th>y</th>\n",
       "      <th>real_label</th>\n",
       "      <th>visible_label</th>\n",
       "      <th>prediction</th>\n",
       "    </tr>\n",
       "  </thead>\n",
       "  <tbody>\n",
       "    <tr>\n",
       "      <th>0</th>\n",
       "      <td>0.803508</td>\n",
       "      <td>0.381074</td>\n",
       "      <td>0.0</td>\n",
       "      <td>0</td>\n",
       "      <td>0</td>\n",
       "    </tr>\n",
       "    <tr>\n",
       "      <th>1</th>\n",
       "      <td>0.056900</td>\n",
       "      <td>0.529895</td>\n",
       "      <td>1.0</td>\n",
       "      <td>1</td>\n",
       "      <td>1</td>\n",
       "    </tr>\n",
       "    <tr>\n",
       "      <th>2</th>\n",
       "      <td>0.930937</td>\n",
       "      <td>0.554816</td>\n",
       "      <td>0.0</td>\n",
       "      <td>0</td>\n",
       "      <td>0</td>\n",
       "    </tr>\n",
       "    <tr>\n",
       "      <th>3</th>\n",
       "      <td>0.461676</td>\n",
       "      <td>0.628538</td>\n",
       "      <td>0.0</td>\n",
       "      <td>0</td>\n",
       "      <td>0</td>\n",
       "    </tr>\n",
       "    <tr>\n",
       "      <th>4</th>\n",
       "      <td>0.736796</td>\n",
       "      <td>0.379693</td>\n",
       "      <td>0.0</td>\n",
       "      <td>0</td>\n",
       "      <td>0</td>\n",
       "    </tr>\n",
       "  </tbody>\n",
       "</table>\n",
       "</div>"
      ],
      "text/plain": [
       "          x         y  real_label  visible_label  prediction\n",
       "0  0.803508  0.381074         0.0              0           0\n",
       "1  0.056900  0.529895         1.0              1           1\n",
       "2  0.930937  0.554816         0.0              0           0\n",
       "3  0.461676  0.628538         0.0              0           0\n",
       "4  0.736796  0.379693         0.0              0           0"
      ]
     },
     "execution_count": 210,
     "metadata": {},
     "output_type": "execute_result"
    }
   ],
   "source": [
    "df_data['prediction'] = ((w * df_data['x'] +b - df_data['y'] )>0)*1\n",
    "d = np.sum(df_data['prediction']==+1)\n",
    "df_data.head(5)"
   ]
  },
  {
   "cell_type": "code",
   "execution_count": null,
   "metadata": {
    "collapsed": true
   },
   "outputs": [],
   "source": []
  },
  {
   "cell_type": "code",
   "execution_count": null,
   "metadata": {
    "collapsed": true
   },
   "outputs": [],
   "source": []
  },
  {
   "cell_type": "code",
   "execution_count": 211,
   "metadata": {
    "collapsed": true
   },
   "outputs": [],
   "source": [
    "N_visibles =   range(1,int(np.sum(df_data['real_label'])))\n",
    "max_counter_ws = 1\n",
    "max_counter_cs = 100"
   ]
  },
  {
   "cell_type": "code",
   "execution_count": 212,
   "metadata": {},
   "outputs": [
    {
     "name": "stderr",
     "output_type": "stream",
     "text": [
      "/Users/vu/anaconda3/lib/python3.6/site-packages/ipykernel_launcher.py:12: RuntimeWarning: invalid value encountered in double_scalars\n",
      "  if sys.path[0] == '':\n"
     ]
    }
   ],
   "source": [
    "dic_F1_={}\n",
    "dic_var = {}\n",
    "for N_visible in N_visibles:\n",
    "    rho_real = N_visible / np.sum(df_data['real_label'] == +1)\n",
    "    dic_F1_[rho_real]=[]\n",
    "    \n",
    "    for counter_rho in range(0,max_counter_cs):\n",
    "        ## Set visibile data points\n",
    "        \n",
    "        df_data['visible_label'] = 0\n",
    "        temp_visibles = np.random.choice(np.where(df_data['real_label']==+1)[0], size=N_visible, replace=False)\n",
    "        df_data.loc[temp_visibles,'visible_label'] = +1\n",
    "        # calculate estimated F1    \n",
    "        dic_F1_[rho_real].append(F1_estimate(df_data,rho_real))\n",
    "    ## calculated Variance\n",
    "    c = N_visible\n",
    "    b = np.sum((df_data['prediction']==+1) & (df_data['real_label']==+1))\n",
    "    a = np.sum(df_data['real_label']==+1)\n",
    "    #x = np.sum((df_data['prediction']==+1) & (df_data['visible_label']==+1))\n",
    "    var = b*c*(a-c)*(a-b)/(a**2 * (a-1))\n",
    "    VAR = (2/ (rho_real*d + c ))**2 * var\n",
    "    dic_var[rho_real] = VAR"
   ]
  },
  {
   "cell_type": "code",
   "execution_count": 213,
   "metadata": {},
   "outputs": [
    {
     "data": {
      "text/plain": [
       "0.411214953271028"
      ]
     },
     "execution_count": 213,
     "metadata": {},
     "output_type": "execute_result"
    }
   ],
   "source": [
    "mean = b*c/a\n",
    "F1 = 2*mean/(rho_real*d+c)\n",
    "F1"
   ]
  },
  {
   "cell_type": "code",
   "execution_count": null,
   "metadata": {
    "collapsed": true
   },
   "outputs": [],
   "source": []
  },
  {
   "cell_type": "code",
   "execution_count": null,
   "metadata": {
    "collapsed": true
   },
   "outputs": [],
   "source": []
  },
  {
   "cell_type": "markdown",
   "metadata": {},
   "source": [
    "## Make Figure"
   ]
  },
  {
   "cell_type": "code",
   "execution_count": 223,
   "metadata": {},
   "outputs": [
    {
     "data": {
      "text/plain": [
       "<Figure size 720x360 with 0 Axes>"
      ]
     },
     "execution_count": 223,
     "metadata": {},
     "output_type": "execute_result"
    }
   ],
   "source": [
    "plt.figure(figsize=(10,5))"
   ]
  },
  {
   "cell_type": "code",
   "execution_count": 224,
   "metadata": {},
   "outputs": [
    {
     "data": {
      "text/plain": [
       "<matplotlib.collections.PathCollection at 0x1a21d5cf60>"
      ]
     },
     "execution_count": 224,
     "metadata": {},
     "output_type": "execute_result"
    }
   ],
   "source": [
    "for N_visible in N_visibles:\n",
    "    rho_real = N_visible / np.sum(df_data['real_label'] == +1)\n",
    "    plt.scatter(np.ones(max_counter_cs)*rho_real, dic_F1_[rho_real],alpha=0.15,c='k',s=8,marker='o')\n",
    "    \n",
    "        # real Mean\n",
    "    plt.scatter(x = rho_real, y = np.mean(dic_F1_[rho_real]), c='b',marker='_',label= None)\n",
    "        # real standard deviations\n",
    "    plt.scatter(x = rho_real, y = np.mean(dic_F1_[rho_real])+ np.std(dic_F1_[rho_real]) , c='r',marker='_', label =None)\n",
    "    plt.scatter(x = rho_real, y = np.mean(dic_F1_[rho_real])- np.std(dic_F1_[rho_real]) , c='r',marker='_',label=None)\n",
    "\n",
    "        # Just for lgends\n",
    "plt.scatter(np.ones(max_counter_cs)*rho_real, dic_F1_[rho_real],alpha=0.15,c='k',s=5,marker='o', label = r'$\\overline{F1}$')\n",
    "plt.scatter(x = rho_real, y = np.mean(dic_F1_[rho_real]), c='b',marker='_',label=r'mean($\\overline{F1}$)' )\n",
    "        # real standard deviations\n",
    "plt.scatter(x = rho_real, y = np.mean(dic_F1_[rho_real])+ np.std(dic_F1_[rho_real]) , c='r',marker='_',label=r'$\\overline{F1}$ +- std($\\overline{F1}$)' )\n",
    "\n",
    "\n"
   ]
  },
  {
   "cell_type": "code",
   "execution_count": 225,
   "metadata": {},
   "outputs": [
    {
     "data": {
      "text/plain": [
       "[<matplotlib.lines.Line2D at 0x1a219e8550>]"
      ]
     },
     "execution_count": 225,
     "metadata": {},
     "output_type": "execute_result"
    }
   ],
   "source": [
    "    \n",
    "# calculated mean\n",
    "plt.plot(dic_var.keys(), list(F1* np.ones(len(dic_var))) , c= 'b', linestyle=':',label= 'E(F1)')\n",
    "# calculated standard deviations\n",
    "plt.plot(dic_var.keys(), F1 + np.sqrt(list(dic_var.values())), c = 'r' , linestyle=':', label = 'E(F1) +- std(F1)' )\n",
    "plt.plot(dic_var.keys(), F1 - np.sqrt(list(dic_var.values())), c = 'r', linestyle=':',label=None )"
   ]
  },
  {
   "cell_type": "code",
   "execution_count": 226,
   "metadata": {},
   "outputs": [
    {
     "data": {
      "image/png": "[encoded data removed]",
      "text/plain": [
       "<Figure size 720x360 with 1 Axes>"
      ]
     },
     "metadata": {},
     "output_type": "display_data"
    }
   ],
   "source": [
    "plt.xlabel(r\"$\\rho$\", fontsize = 14)\n",
    "plt.ylabel(r\"$\\overline{F1}$\", fontsize = 14)\n",
    "plt.grid(axis='both')\n",
    "plt.legend()\n",
    "#plt.ylim([-0.3,1.6])\n",
    "\n",
    "plt.savefig(address_main +'AVG, STD, GeneratedDataset.png')\n",
    "\n",
    "plt.show()"
   ]
  },
  {
   "cell_type": "code",
   "execution_count": null,
   "metadata": {
    "collapsed": true
   },
   "outputs": [],
   "source": []
  },
  {
   "cell_type": "code",
   "execution_count": null,
   "metadata": {
    "collapsed": true
   },
   "outputs": [],
   "source": []
  },
  {
   "cell_type": "markdown",
   "metadata": {},
   "source": [
    "# FUNCTIONS"
   ]
  },
  {
   "cell_type": "code",
   "execution_count": 145,
   "metadata": {
    "collapsed": true
   },
   "outputs": [],
   "source": [
    "# Linear Function\n",
    "\n",
    "def g(W,X):\n",
    "    \n",
    "    return np.dot(X,w[0,0:-1]) + w[0,-1]"
   ]
  },
  {
   "cell_type": "code",
   "execution_count": 146,
   "metadata": {
    "collapsed": true
   },
   "outputs": [],
   "source": [
    "def predicted_labels (df,W):\n",
    "    N_features = W.shape[1] -1\n",
    "    for i in range (0 , len(df)):\n",
    "        Xi = df.iloc[i,0:N_features]\n",
    "        g_xi = g(W, Xi)\n",
    "        if g_xi > 0 :\n",
    "            df.loc[i,'prediction'] = +1\n",
    "        else:\n",
    "            df.loc[i,'prediction'] = -1\n",
    "    return(df['prediction'])"
   ]
  },
  {
   "cell_type": "code",
   "execution_count": 147,
   "metadata": {
    "collapsed": true
   },
   "outputs": [],
   "source": [
    "# calculate scores \n",
    "def F1_scores(df, writing = False):\n",
    "    TP = np.sum((df['prediction'] == +1) &  (df ['real_label'] == +1))\n",
    "    FP = np.sum((df['prediction'] == +1) &  (df ['real_label'] == 0))\n",
    "    FN = np.sum((df['prediction'] == 0) &  (df ['real_label'] == +1))\n",
    "    if writing :\n",
    "        print( 'TP, FP, FN = ', TP, FP, FN)\n",
    "\n",
    "    pr = TP/(TP+FP)\n",
    "    re = TP/(TP+FN)\n",
    "    F_score = 2*pr*re/(pr+re)\n",
    "\n",
    "    \n",
    "    return (F_score )"
   ]
  },
  {
   "cell_type": "code",
   "execution_count": 148,
   "metadata": {
    "collapsed": true
   },
   "outputs": [],
   "source": [
    "# calculate scores \n",
    "def F1_estimate(df,rho, writing = False):\n",
    "    \n",
    "    TP_ = np.sum((df['prediction'] == +1) &  (df ['visible_label'] == +1))\n",
    "    FP_ = np.sum((df['prediction'] == +1) &  (df ['visible_label'] == 0))\n",
    "    FN_ = np.sum((df['prediction'] == 0) &  (df ['visible_label'] == +1))\n",
    "    if writing :\n",
    "        print( 'TP_, FP_, FN_ = ', TP_, FP_, FN_)\n",
    "    pr_ = TP_/(TP_ + FP_)\n",
    "    pr_ /= rho\n",
    "    re_ = TP_/(TP_ + FN_)\n",
    "    F_score_ = 2*pr_*re_/(pr_+re_)\n",
    "\n",
    "    if writing:\n",
    "        print('np.sum((df[prediction] == +1)) = ', np.sum((df['prediction'] == +1)))\n",
    "    \n",
    "\n",
    "    if np.isnan(F_score_):\n",
    "        F_score_=0\n",
    "\n",
    "    return ( F_score_)"
   ]
  },
  {
   "cell_type": "code",
   "execution_count": null,
   "metadata": {
    "collapsed": true
   },
   "outputs": [],
   "source": []
  },
  {
   "cell_type": "code",
   "execution_count": 152,
   "metadata": {
    "collapsed": true
   },
   "outputs": [],
   "source": [
    "\n",
    "def viz(df_data,address=''):\n",
    "    size_data = len(df_data)\n",
    "    c=[]\n",
    "    alpha= []\n",
    "    S= 80\n",
    "    for i in range(0,size_data):\n",
    "        if df_data.loc[i,'real_label'] == 0 :\n",
    "            c.append('b')\n",
    "        else:\n",
    "            c.append('r')    \n",
    "\n",
    "        if df_data.loc[i,'visible_label'] == 0 :\n",
    "            alpha.append(1)\n",
    "        else:\n",
    "            alpha.append(8)\n",
    "\n",
    "\n",
    "    plt.scatter(df_data['x'],df_data['y'], alpha=0.5,linewidths=alpha,edgecolors = 'k', c=c,s=S)\n",
    "    plt.xlim([0,1])\n",
    "    plt.ylim([0,1])\n",
    "    if (address!='') :\n",
    "        print('saved')\n",
    "        plt.savefig(address)\n",
    "    plt.show()\n",
    "\n",
    "\n",
    "\n"
   ]
  },
  {
   "cell_type": "code",
   "execution_count": null,
   "metadata": {
    "collapsed": true
   },
   "outputs": [],
   "source": []
  },
  {
   "cell_type": "code",
   "execution_count": null,
   "metadata": {
    "collapsed": true
   },
   "outputs": [],
   "source": []
  }
 ],
 "metadata": {
  "kernelspec": {
   "display_name": "Python 3",
   "language": "python",
   "name": "python3"
  },
  "language_info": {
   "codemirror_mode": {
    "name": "ipython",
    "version": 3
   },
   "file_extension": ".py",
   "mimetype": "text/x-python",
   "name": "python",
   "nbconvert_exporter": "python",
   "pygments_lexer": "ipython3",
   "version": "3.6.8"
  }
 },
 "nbformat": 4,
 "nbformat_minor": 2
}
