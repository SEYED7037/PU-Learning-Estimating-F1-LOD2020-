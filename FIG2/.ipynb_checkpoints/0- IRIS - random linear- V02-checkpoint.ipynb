{
 "cells": [
  {
   "cell_type": "code",
   "execution_count": 56,
   "metadata": {
    "collapsed": true
   },
   "outputs": [],
   "source": [
    "import numpy as np\n",
    "import pandas as pd \n",
    "from sklearn.preprocessing import MinMaxScaler\n",
    "from sklearn.linear_model import LogisticRegression\n",
    "from sklearn.ensemble import RandomForestClassifier\n",
    "\n"
   ]
  },
  {
   "cell_type": "code",
   "execution_count": 57,
   "metadata": {
    "collapsed": true
   },
   "outputs": [],
   "source": [
    "address_main = '/Users/vu/surfdrive/PostDoc/VUMC projrct/Related Matterials/Positive and unlabeled dataset/Code/estimate rho/'\n",
    "address_date = address_main + 'iris.csv'\n"
   ]
  },
  {
   "cell_type": "code",
   "execution_count": 58,
   "metadata": {
    "collapsed": true
   },
   "outputs": [],
   "source": [
    "df_data = pd.read_csv(address_date,header= None)\n",
    "df_data.columns = ['x0','x1','x2','x3','text_label']\n",
    "df_data['real_label']=-1\n",
    "df_data.loc[df_data['text_label']=='Iris-setosa','real_label'] = +1\n",
    "\n"
   ]
  },
  {
   "cell_type": "markdown",
   "metadata": {},
   "source": [
    "### Normalization"
   ]
  },
  {
   "cell_type": "code",
   "execution_count": 59,
   "metadata": {
    "collapsed": true
   },
   "outputs": [],
   "source": [
    "\n",
    "minmax = MinMaxScaler()\n",
    "df_data[['x0','x1','x2','x3']] = minmax.fit_transform(df_data[['x0','x1','x2','x3']])"
   ]
  },
  {
   "cell_type": "markdown",
   "metadata": {
    "collapsed": true
   },
   "source": [
    "### Visible Data"
   ]
  },
  {
   "cell_type": "code",
   "execution_count": 62,
   "metadata": {},
   "outputs": [
    {
     "name": "stdout",
     "output_type": "stream",
     "text": [
      "N_visible=  14\n",
      "N_train=  13\n",
      "N_test=  1\n",
      "rho=  0.29\n"
     ]
    }
   ],
   "source": [
    "rho = 0.29\n",
    "\n",
    "N_visible = int(rho * np.sum(df_data['real_label']== 1))\n",
    "N_train = N_visible - 1\n",
    "\n",
    "\n",
    "print('N_visible= ' , N_visible)\n",
    "print('N_train= ' , N_train)\n",
    "print('N_test= ' , N_visible-N_train)\n",
    "print('rho= ', rho)"
   ]
  },
  {
   "cell_type": "markdown",
   "metadata": {},
   "source": [
    "## Main Part"
   ]
  },
  {
   "cell_type": "code",
   "execution_count": 63,
   "metadata": {},
   "outputs": [
    {
     "name": "stdout",
     "output_type": "stream",
     "text": [
      "real rho =  0.29\n",
      "estimated rho, linear =  0.2432419760824413\n",
      "estimated rho, RF =  0.2954054650190563\n"
     ]
    }
   ],
   "source": [
    "All_Results_RF =[]\n",
    "All_Results_linear =[]\n",
    "for temp in range(0,25):\n",
    "    df_data['visible_label'] = -1\n",
    "    df_data['train'] = -1\n",
    "    df_data['test'] = -1\n",
    "    # Visibility\n",
    "    temp_visibles = np.random.choice(np.where(df_data['real_label']==+1)[0], size=N_visible, replace=False)\n",
    "    df_data.loc[temp_visibles,'visible_label'] = +1    \n",
    "    \n",
    "    \n",
    "\n",
    "    # middle calculations\n",
    "    r2_avg_RF = on_leave_out_for_one_setting(df_data=df_data, classifier_type='RF')\n",
    "    r2_avg_linear = on_leave_out_for_one_setting(df_data=df_data, classifier_type='linear')\n",
    "    \n",
    "    # estimating Rho\n",
    "    \n",
    "    All_Results_RF.append(r2_avg_RF)\n",
    "    All_Results_linear.append(r2_avg_linear)\n",
    "    \n",
    "N_positives_est_RF = ((N_visible - 1 ) / np.mean(All_Results_RF) ) -1\n",
    "N_positives_est_linear = ((N_visible - 1 ) / np.mean(All_Results_linear) ) -1\n",
    "\n",
    "print('real rho = ', rho)\n",
    "print ('estimated rho, linear = ', N_visible/N_positives_est_linear)\n",
    "print ('estimated rho, RF = ', N_visible/N_positives_est_RF)"
   ]
  },
  {
   "cell_type": "markdown",
   "metadata": {},
   "source": [
    "### Training"
   ]
  },
  {
   "cell_type": "code",
   "execution_count": null,
   "metadata": {
    "collapsed": true
   },
   "outputs": [],
   "source": []
  },
  {
   "cell_type": "code",
   "execution_count": null,
   "metadata": {
    "collapsed": true
   },
   "outputs": [],
   "source": []
  },
  {
   "cell_type": "code",
   "execution_count": null,
   "metadata": {
    "collapsed": true
   },
   "outputs": [],
   "source": []
  },
  {
   "cell_type": "code",
   "execution_count": 44,
   "metadata": {
    "collapsed": true
   },
   "outputs": [],
   "source": [
    "def on_leave_out_for_one_setting(df_data,classifier_type='RF'):\n",
    "    results = []\n",
    "    train_indexes = np.where(df_data['visible_label']==+1)[0]\n",
    "    for test_index in train_indexes:\n",
    "        df_train = df_data.drop(test_index,axis=0,inplace=False)\n",
    "        X_train = df_train[['x0','x1','x2','x3']]\n",
    "        y_train = df_train['visible_label']\n",
    "        if classifier_type == 'linear':\n",
    "            classifier = LogisticRegression()\n",
    "        elif classifier_type == 'RF': \n",
    "            classifier = RandomForestClassifier()\n",
    "        else:\n",
    "            print (\"NO CLASSIFIER\")\n",
    "        \n",
    "        classifier.fit(X_train, y_train)\n",
    "\n",
    "\n",
    "        df_test = df_data.loc[test_index]\n",
    "        X_test = df_test[['x0','x1','x2','x3']]\n",
    "\n",
    "        r2=np.mean(classifier.predict_proba(X_test.values.reshape(1,-1))[:,1])\n",
    "        results.append(r2)\n",
    "    return(np.mean(results))"
   ]
  },
  {
   "cell_type": "code",
   "execution_count": null,
   "metadata": {
    "collapsed": true
   },
   "outputs": [],
   "source": []
  },
  {
   "cell_type": "code",
   "execution_count": null,
   "metadata": {
    "collapsed": true
   },
   "outputs": [],
   "source": []
  },
  {
   "cell_type": "code",
   "execution_count": null,
   "metadata": {
    "collapsed": true
   },
   "outputs": [],
   "source": []
  }
 ],
 "metadata": {
  "kernelspec": {
   "display_name": "Python 3",
   "language": "python",
   "name": "python3"
  },
  "language_info": {
   "codemirror_mode": {
    "name": "ipython",
    "version": 3
   },
   "file_extension": ".py",
   "mimetype": "text/x-python",
   "name": "python",
   "nbconvert_exporter": "python",
   "pygments_lexer": "ipython3",
   "version": "3.6.8"
  }
 },
 "nbformat": 4,
 "nbformat_minor": 2
}
