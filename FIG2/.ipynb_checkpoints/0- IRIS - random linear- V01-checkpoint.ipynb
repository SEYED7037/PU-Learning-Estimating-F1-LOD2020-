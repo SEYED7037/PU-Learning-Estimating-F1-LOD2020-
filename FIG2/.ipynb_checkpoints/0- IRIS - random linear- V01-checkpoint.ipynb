{
 "cells": [
  {
   "cell_type": "code",
   "execution_count": 39,
   "metadata": {
    "collapsed": true
   },
   "outputs": [],
   "source": [
    "import numpy as np\n",
    "import pandas as pd \n",
    "from sklearn.preprocessing import MinMaxScaler\n",
    "from sklearn.linear_model import LogisticRegression\n",
    "from sklearn.ensemble import RandomForestClassifier\n",
    "\n"
   ]
  },
  {
   "cell_type": "code",
   "execution_count": 40,
   "metadata": {
    "collapsed": true
   },
   "outputs": [],
   "source": [
    "address_main = '/Users/vu/surfdrive/PostDoc/VUMC projrct/Related Matterials/Positive and unlabeled dataset/Code/estimate rho/'\n",
    "address_date = address_main + 'iris.csv'\n"
   ]
  },
  {
   "cell_type": "code",
   "execution_count": 41,
   "metadata": {
    "collapsed": true
   },
   "outputs": [],
   "source": [
    "df_data = pd.read_csv(address_date,header= None)\n",
    "df_data.columns = ['x0','x1','x2','x3','text_label']\n",
    "df_data['real_label']=-1\n",
    "df_data.loc[df_data['text_label']=='Iris-setosa','real_label'] = +1\n",
    "\n"
   ]
  },
  {
   "cell_type": "markdown",
   "metadata": {},
   "source": [
    "### Normalization"
   ]
  },
  {
   "cell_type": "code",
   "execution_count": 42,
   "metadata": {
    "collapsed": true
   },
   "outputs": [],
   "source": [
    "\n",
    "minmax = MinMaxScaler()\n",
    "df_data[['x0','x1','x2','x3']] = minmax.fit_transform(df_data[['x0','x1','x2','x3']])"
   ]
  },
  {
   "cell_type": "markdown",
   "metadata": {
    "collapsed": true
   },
   "source": [
    "### Visible Data"
   ]
  },
  {
   "cell_type": "code",
   "execution_count": 83,
   "metadata": {},
   "outputs": [
    {
     "name": "stdout",
     "output_type": "stream",
     "text": [
      "N_visible 50\n",
      "N_train 49\n",
      "N_test 1\n"
     ]
    }
   ],
   "source": [
    "rho = 1.0\n",
    "rho2 = .99\n",
    "\n",
    "N_visible = int(rho * np.sum(df_data['real_label']== 1))\n",
    "N_train = int(rho2 * N_visible)\n",
    "\n",
    "\n",
    "print('N_visible' , N_visible)\n",
    "print('N_train' , N_train)\n",
    "print('N_test' , N_visible-N_train)"
   ]
  },
  {
   "cell_type": "markdown",
   "metadata": {},
   "source": [
    "## Main Part"
   ]
  },
  {
   "cell_type": "code",
   "execution_count": 85,
   "metadata": {},
   "outputs": [
    {
     "name": "stdout",
     "output_type": "stream",
     "text": [
      "real rho =  1.0  ---> estimated rho =  1.0173469387755103\n"
     ]
    }
   ],
   "source": [
    "R2s =[]\n",
    "for temp in range(0,100):\n",
    "    df_data['visible_label'] = -1\n",
    "    df_data['train'] = -1\n",
    "    df_data['test'] = -1\n",
    "    # Visibility\n",
    "    temp_visibles = np.random.choice(np.where(df_data['real_label']==+1)[0], size=N_visible, replace=False)\n",
    "    df_data.loc[temp_visibles,'visible_label'] = +1\n",
    "    #Train\n",
    "    temp_visibles = np.random.choice(np.where(df_data['visible_label']==+1)[0], size=N_train, replace=False)\n",
    "    df_data.loc[temp_visibles,'train'] = +1\n",
    "    #Test\n",
    "    df_data.loc[(df_data['visible_label']==+1) & (df_data['train']==-1),'test']=+1\n",
    "\n",
    "    # Training x&y\n",
    "    df_train = df_data.loc[df_data['test']== -1]\n",
    "    X_train = df_train[['x0','x1','x2','x3']]\n",
    "    y_train = df_train['train']\n",
    "    # Train1 \n",
    "    classifier = LogisticRegression()\n",
    "    #classifier = RandomForestClassifier()\n",
    "    classifier.fit(X_train, y_train)\n",
    "    # Test\n",
    "    df_test = df_data.loc[df_data['test']== +1]\n",
    "    X_test = df_test[['x0','x1','x2','x3']]\n",
    "\n",
    "    # middle calculations\n",
    "    r2=np.mean(classifier.predict_proba(X_test)[:,1])\n",
    "    # estimating Rho\n",
    "    \n",
    "    R2s.append(r2)\n",
    "    \n",
    "est_rho = N_visible/(N_train/ np.mean(R2s))\n",
    "print('real rho = ', rho , ' ---> estimated rho = ', est_rho) \n"
   ]
  },
  {
   "cell_type": "markdown",
   "metadata": {},
   "source": [
    "### TEST"
   ]
  },
  {
   "cell_type": "code",
   "execution_count": 71,
   "metadata": {},
   "outputs": [
    {
     "data": {
      "text/plain": [
       "0.06"
      ]
     },
     "execution_count": 71,
     "metadata": {},
     "output_type": "execute_result"
    }
   ],
   "source": [
    "np.mean(R2s)"
   ]
  },
  {
   "cell_type": "code",
   "execution_count": 73,
   "metadata": {},
   "outputs": [
    {
     "data": {
      "text/plain": [
       "0.08"
      ]
     },
     "execution_count": 73,
     "metadata": {},
     "output_type": "execute_result"
    }
   ],
   "source": [
    "N_train/50"
   ]
  },
  {
   "cell_type": "code",
   "execution_count": null,
   "metadata": {
    "collapsed": true
   },
   "outputs": [],
   "source": []
  },
  {
   "cell_type": "code",
   "execution_count": 86,
   "metadata": {},
   "outputs": [
    {
     "data": {
      "image/png": "[encoded data removed]",
      "text/plain": [
       "<Figure size 432x288 with 1 Axes>"
      ]
     },
     "metadata": {},
     "output_type": "display_data"
    }
   ],
   "source": [
    "import matplotlib.pyplot as plt\n",
    "plt.plot(estimate_rhos)\n",
    "plt.show(R2s)"
   ]
  },
  {
   "cell_type": "markdown",
   "metadata": {},
   "source": [
    "### Test Data"
   ]
  },
  {
   "cell_type": "code",
   "execution_count": null,
   "metadata": {},
   "outputs": [],
   "source": []
  },
  {
   "cell_type": "markdown",
   "metadata": {},
   "source": [
    "### MAKE sklearn linear regression"
   ]
  },
  {
   "cell_type": "code",
   "execution_count": null,
   "metadata": {
    "collapsed": true
   },
   "outputs": [],
   "source": []
  },
  {
   "cell_type": "code",
   "execution_count": null,
   "metadata": {},
   "outputs": [],
   "source": []
  },
  {
   "cell_type": "code",
   "execution_count": null,
   "metadata": {},
   "outputs": [],
   "source": []
  },
  {
   "cell_type": "code",
   "execution_count": 240,
   "metadata": {
    "collapsed": true
   },
   "outputs": [],
   "source": []
  },
  {
   "cell_type": "code",
   "execution_count": 241,
   "metadata": {},
   "outputs": [
    {
     "name": "stdout",
     "output_type": "stream",
     "text": [
      "20 / 0.3796641109822922 =  52.678142130038765\n"
     ]
    }
   ],
   "source": []
  },
  {
   "cell_type": "markdown",
   "metadata": {
    "collapsed": true
   },
   "source": [
    "# FINAL Result"
   ]
  },
  {
   "cell_type": "code",
   "execution_count": 242,
   "metadata": {},
   "outputs": [
    {
     "name": "stdout",
     "output_type": "stream",
     "text": [
      "real rho =  0.5  ---> estimated rho =  0.47458013872786525\n"
     ]
    }
   ],
   "source": []
  },
  {
   "cell_type": "markdown",
   "metadata": {
    "collapsed": true
   },
   "source": [
    "## TEST"
   ]
  },
  {
   "cell_type": "code",
   "execution_count": null,
   "metadata": {
    "collapsed": true
   },
   "outputs": [],
   "source": []
  },
  {
   "cell_type": "code",
   "execution_count": null,
   "metadata": {
    "collapsed": true
   },
   "outputs": [],
   "source": []
  },
  {
   "cell_type": "code",
   "execution_count": null,
   "metadata": {
    "collapsed": true
   },
   "outputs": [],
   "source": [
    "r2=np.mean(clf.predict_proba(X_train)[:,1])\n",
    "print(r2)"
   ]
  }
 ],
 "metadata": {
  "kernelspec": {
   "display_name": "Python 3",
   "language": "python",
   "name": "python3"
  },
  "language_info": {
   "codemirror_mode": {
    "name": "ipython",
    "version": 3
   },
   "file_extension": ".py",
   "mimetype": "text/x-python",
   "name": "python",
   "nbconvert_exporter": "python",
   "pygments_lexer": "ipython3",
   "version": "3.6.8"
  }
 },
 "nbformat": 4,
 "nbformat_minor": 2
}
